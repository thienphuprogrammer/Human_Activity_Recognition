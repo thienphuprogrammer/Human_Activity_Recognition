{
 "cells": [
  {
   "metadata": {},
   "cell_type": "markdown",
   "source": [],
   "id": "b4fe5c50ca9d86a2"
  },
  {
   "metadata": {},
   "cell_type": "markdown",
   "source": [
    "# Import libraries"
   ],
   "id": "64d41a7f9953ea1"
  },
  {
   "metadata": {
    "ExecuteTime": {
     "end_time": "2024-10-19T08:53:35.298974400Z",
     "start_time": "2024-10-19T08:53:34.649902800Z"
    }
   },
   "cell_type": "code",
   "source": [
    "import os\n",
    "\n",
    "import numpy as np\n",
    "import pandas as pd\n"
   ],
   "id": "36ac00ab3cc2e41f",
   "outputs": [],
   "execution_count": 7
  },
  {
   "metadata": {},
   "cell_type": "markdown",
   "source": [
    "# Read data"
   ],
   "id": "b56a084a813977d7"
  },
  {
   "metadata": {
    "ExecuteTime": {
     "end_time": "2024-10-19T08:53:35.393910400Z",
     "start_time": "2024-10-19T08:53:35.302983200Z"
    }
   },
   "cell_type": "code",
   "source": [
    "DATASET_PATH = '../../data/processed/HAR'\n",
    "DATASET_CSV_PATH = f'{DATASET_PATH}/UCF'"
   ],
   "id": "5892de3825f83baf",
   "outputs": [],
   "execution_count": 8
  },
  {
   "metadata": {
    "ExecuteTime": {
     "end_time": "2024-10-19T08:53:35.522078300Z",
     "start_time": "2024-10-19T08:53:35.376129700Z"
    }
   },
   "cell_type": "code",
   "source": [
    "LABEL = {\n",
    "    'Jump': 0,\n",
    "    'Kick': 1,\n",
    "    'Punch': 2,\n",
    "    'Left': 3,\n",
    "    'Right': 4,\n",
    "    'Stand': 5\n",
    "}"
   ],
   "id": "7b9292fe6841bd9d",
   "outputs": [],
   "execution_count": 9
  },
  {
   "metadata": {
    "ExecuteTime": {
     "end_time": "2024-10-19T08:53:35.633644300Z",
     "start_time": "2024-10-19T08:53:35.467374400Z"
    }
   },
   "cell_type": "code",
   "source": [
    "X = []\n",
    "y = []\n",
    "\n",
    "# Read all files in the dataset\n",
    "for label in LABEL:\n",
    "    for file in os.listdir(f'{DATASET_CSV_PATH}/Train/{label}'):\n",
    "        df = pd.read_csv(f'{DATASET_CSV_PATH}/Train/{label}/{file}', sep=',')\n",
    "        X.append(df)\n",
    "        y.append(LABEL[label])"
   ],
   "id": "4dcb566d05ba88bf",
   "outputs": [
    {
     "ename": "FileNotFoundError",
     "evalue": "[WinError 3] The system cannot find the path specified: '../../data/processed/HAR/UCF/Train/Jump'",
     "output_type": "error",
     "traceback": [
      "\u001B[1;31m---------------------------------------------------------------------------\u001B[0m",
      "\u001B[1;31mFileNotFoundError\u001B[0m                         Traceback (most recent call last)",
      "Cell \u001B[1;32mIn[10], line 6\u001B[0m\n\u001B[0;32m      4\u001B[0m \u001B[38;5;66;03m# Read all files in the dataset\u001B[39;00m\n\u001B[0;32m      5\u001B[0m \u001B[38;5;28;01mfor\u001B[39;00m label \u001B[38;5;129;01min\u001B[39;00m LABEL:\n\u001B[1;32m----> 6\u001B[0m     \u001B[38;5;28;01mfor\u001B[39;00m file \u001B[38;5;129;01min\u001B[39;00m \u001B[43mos\u001B[49m\u001B[38;5;241;43m.\u001B[39;49m\u001B[43mlistdir\u001B[49m\u001B[43m(\u001B[49m\u001B[38;5;124;43mf\u001B[39;49m\u001B[38;5;124;43m'\u001B[39;49m\u001B[38;5;132;43;01m{\u001B[39;49;00m\u001B[43mDATASET_CSV_PATH\u001B[49m\u001B[38;5;132;43;01m}\u001B[39;49;00m\u001B[38;5;124;43m/Train/\u001B[39;49m\u001B[38;5;132;43;01m{\u001B[39;49;00m\u001B[43mlabel\u001B[49m\u001B[38;5;132;43;01m}\u001B[39;49;00m\u001B[38;5;124;43m'\u001B[39;49m\u001B[43m)\u001B[49m:\n\u001B[0;32m      7\u001B[0m         df \u001B[38;5;241m=\u001B[39m pd\u001B[38;5;241m.\u001B[39mread_csv(\u001B[38;5;124mf\u001B[39m\u001B[38;5;124m'\u001B[39m\u001B[38;5;132;01m{\u001B[39;00mDATASET_CSV_PATH\u001B[38;5;132;01m}\u001B[39;00m\u001B[38;5;124m/Train/\u001B[39m\u001B[38;5;132;01m{\u001B[39;00mlabel\u001B[38;5;132;01m}\u001B[39;00m\u001B[38;5;124m/\u001B[39m\u001B[38;5;132;01m{\u001B[39;00mfile\u001B[38;5;132;01m}\u001B[39;00m\u001B[38;5;124m'\u001B[39m, sep\u001B[38;5;241m=\u001B[39m\u001B[38;5;124m'\u001B[39m\u001B[38;5;124m,\u001B[39m\u001B[38;5;124m'\u001B[39m)\n\u001B[0;32m      8\u001B[0m         X\u001B[38;5;241m.\u001B[39mappend(df)\n",
      "\u001B[1;31mFileNotFoundError\u001B[0m: [WinError 3] The system cannot find the path specified: '../../data/processed/HAR/UCF/Train/Jump'"
     ]
    }
   ],
   "execution_count": 10
  },
  {
   "metadata": {
    "ExecuteTime": {
     "end_time": "2024-10-19T08:53:35.719871300Z",
     "start_time": "2024-10-19T08:53:35.592863400Z"
    }
   },
   "cell_type": "code",
   "source": [
    "# Drop frame_num and timestamp columns\n",
    "for i, element in enumerate(X):\n",
    "    if 'frame_num' and 'timestamp' in element.columns:\n",
    "        X[i] = element.drop(columns=['frame_num', 'timestamp'])\n"
   ],
   "id": "47be3a97f8f2d6e3",
   "outputs": [],
   "execution_count": 11
  },
  {
   "metadata": {
    "ExecuteTime": {
     "end_time": "2024-10-19T08:53:36.232668800Z",
     "start_time": "2024-10-19T08:53:35.724880800Z"
    }
   },
   "cell_type": "code",
   "source": [
    "for i, element in enumerate(X):\n",
    "    for column in element.columns:\n",
    "        X[i][column] = X[i][column].apply(lambda x: np.array(x[1:-1].split(',')).astype(np.float32))"
   ],
   "id": "e7a0062bf4a572eb",
   "outputs": [],
   "execution_count": 12
  },
  {
   "metadata": {},
   "cell_type": "markdown",
   "source": [
    "## Convert All Sequences to the Same Length"
   ],
   "id": "8899e06273e22ac0"
  },
  {
   "cell_type": "code",
   "source": [
    "# Get the maximum length of all sequences\n",
    "all_dim = []\n",
    "for i, element in enumerate(X):\n",
    "    all_dim.append(element.shape[0])\n",
    "    # print(f\"Element {i} shape: {np.shape(element)}, label: {y[i]}\")"
   ],
   "metadata": {
    "collapsed": false,
    "ExecuteTime": {
     "end_time": "2024-10-19T08:53:36.303848Z",
     "start_time": "2024-10-19T08:53:36.190522700Z"
    }
   },
   "id": "f4e0b96bfd36f703",
   "outputs": [],
   "execution_count": 13
  },
  {
   "metadata": {
    "ExecuteTime": {
     "end_time": "2024-10-19T08:53:36.744692700Z",
     "start_time": "2024-10-19T08:53:36.306849900Z"
    }
   },
   "cell_type": "code",
   "source": [
    "# Visualize the distribution of the lengths of all sequences\n",
    "import matplotlib.pyplot as plt\n",
    "\n",
    "plt.hist(all_dim, bins=50)\n",
    "plt.show()"
   ],
   "id": "7d2dda125d4e571a",
   "outputs": [
    {
     "data": {
      "text/plain": "<Figure size 640x480 with 1 Axes>",
      "image/png": "[encoded data removed]"
     },
     "metadata": {},
     "output_type": "display_data"
    }
   ],
   "execution_count": 14
  },
  {
   "metadata": {
    "ExecuteTime": {
     "end_time": "2024-10-19T08:53:36.922017500Z",
     "start_time": "2024-10-19T08:53:36.719587800Z"
    }
   },
   "cell_type": "code",
   "source": [
    "# Visualize the boxplot of the lengths of all sequences\n",
    "plt.boxplot(all_dim)\n",
    "plt.show()"
   ],
   "id": "1ade078d9c310d26",
   "outputs": [
    {
     "data": {
      "text/plain": "<Figure size 640x480 with 1 Axes>",
      "image/png": "[encoded data removed]"
     },
     "metadata": {},
     "output_type": "display_data"
    }
   ],
   "execution_count": 15
  },
  {
   "metadata": {},
   "cell_type": "markdown",
   "source": [
    "### Handle the Outliers and make the lengths of all sequences the same\n",
    "Handle different lengths of sequences\n",
    "    Set the maximum length = 1.5 * IQR + Q3\n",
    "    \n",
    "    * Case 1: If e_dim < Max_dim, then increase the length of the sequence by duplicating each row until the length of the sequence is equal to Max_dim\n",
    "    * Case 2: If e_dim > Max_dim, then truncate randomly the sequence until the length of the sequence is equal to Max_dim\n",
    "    * Case 3: If e_dim = Max_dim, then keep the sequence as it is"
   ],
   "id": "a1981ebda22b7f0f"
  },
  {
   "metadata": {
    "ExecuteTime": {
     "end_time": "2024-10-19T08:53:37.747981200Z",
     "start_time": "2024-10-19T08:53:36.850844Z"
    }
   },
   "cell_type": "code",
   "source": [
    "# Convert all sequences to the same length\n",
    "Q1 = np.percentile(all_dim, 25)\n",
    "Q3 = np.percentile(all_dim, 75)\n",
    "IQR = Q3 - Q1\n",
    "lower_bound = Q1 - 1.5 * IQR\n",
    "upper_bound = Q3 + 1.5 * IQR\n",
    "print(f\"Q1: {Q1}, Q3: {Q3}, IQR: {IQR}, Lower bound: {lower_bound}, Upper bound: {upper_bound}\")"
   ],
   "id": "d23d3a0565986a2c",
   "outputs": [
    {
     "ename": "IndexError",
     "evalue": "index -1 is out of bounds for axis 0 with size 0",
     "output_type": "error",
     "traceback": [
      "\u001B[1;31m---------------------------------------------------------------------------\u001B[0m",
      "\u001B[1;31mIndexError\u001B[0m                                Traceback (most recent call last)",
      "Cell \u001B[1;32mIn[16], line 2\u001B[0m\n\u001B[0;32m      1\u001B[0m \u001B[38;5;66;03m# Convert all sequences to the same length\u001B[39;00m\n\u001B[1;32m----> 2\u001B[0m Q1 \u001B[38;5;241m=\u001B[39m \u001B[43mnp\u001B[49m\u001B[38;5;241;43m.\u001B[39;49m\u001B[43mpercentile\u001B[49m\u001B[43m(\u001B[49m\u001B[43mall_dim\u001B[49m\u001B[43m,\u001B[49m\u001B[43m \u001B[49m\u001B[38;5;241;43m25\u001B[39;49m\u001B[43m)\u001B[49m\n\u001B[0;32m      3\u001B[0m Q3 \u001B[38;5;241m=\u001B[39m np\u001B[38;5;241m.\u001B[39mpercentile(all_dim, \u001B[38;5;241m75\u001B[39m)\n\u001B[0;32m      4\u001B[0m IQR \u001B[38;5;241m=\u001B[39m Q3 \u001B[38;5;241m-\u001B[39m Q1\n",
      "File \u001B[1;32m~\\AppData\\Local\\Programs\\Python\\Python310\\lib\\site-packages\\numpy\\lib\\function_base.py:4283\u001B[0m, in \u001B[0;36mpercentile\u001B[1;34m(a, q, axis, out, overwrite_input, method, keepdims, interpolation)\u001B[0m\n\u001B[0;32m   4281\u001B[0m \u001B[38;5;28;01mif\u001B[39;00m \u001B[38;5;129;01mnot\u001B[39;00m _quantile_is_valid(q):\n\u001B[0;32m   4282\u001B[0m     \u001B[38;5;28;01mraise\u001B[39;00m \u001B[38;5;167;01mValueError\u001B[39;00m(\u001B[38;5;124m\"\u001B[39m\u001B[38;5;124mPercentiles must be in the range [0, 100]\u001B[39m\u001B[38;5;124m\"\u001B[39m)\n\u001B[1;32m-> 4283\u001B[0m \u001B[38;5;28;01mreturn\u001B[39;00m \u001B[43m_quantile_unchecked\u001B[49m\u001B[43m(\u001B[49m\n\u001B[0;32m   4284\u001B[0m \u001B[43m    \u001B[49m\u001B[43ma\u001B[49m\u001B[43m,\u001B[49m\u001B[43m \u001B[49m\u001B[43mq\u001B[49m\u001B[43m,\u001B[49m\u001B[43m \u001B[49m\u001B[43maxis\u001B[49m\u001B[43m,\u001B[49m\u001B[43m \u001B[49m\u001B[43mout\u001B[49m\u001B[43m,\u001B[49m\u001B[43m \u001B[49m\u001B[43moverwrite_input\u001B[49m\u001B[43m,\u001B[49m\u001B[43m \u001B[49m\u001B[43mmethod\u001B[49m\u001B[43m,\u001B[49m\u001B[43m \u001B[49m\u001B[43mkeepdims\u001B[49m\u001B[43m)\u001B[49m\n",
      "File \u001B[1;32m~\\AppData\\Local\\Programs\\Python\\Python310\\lib\\site-packages\\numpy\\lib\\function_base.py:4555\u001B[0m, in \u001B[0;36m_quantile_unchecked\u001B[1;34m(a, q, axis, out, overwrite_input, method, keepdims)\u001B[0m\n\u001B[0;32m   4547\u001B[0m \u001B[38;5;28;01mdef\u001B[39;00m \u001B[38;5;21m_quantile_unchecked\u001B[39m(a,\n\u001B[0;32m   4548\u001B[0m                         q,\n\u001B[0;32m   4549\u001B[0m                         axis\u001B[38;5;241m=\u001B[39m\u001B[38;5;28;01mNone\u001B[39;00m,\n\u001B[1;32m   (...)\u001B[0m\n\u001B[0;32m   4552\u001B[0m                         method\u001B[38;5;241m=\u001B[39m\u001B[38;5;124m\"\u001B[39m\u001B[38;5;124mlinear\u001B[39m\u001B[38;5;124m\"\u001B[39m,\n\u001B[0;32m   4553\u001B[0m                         keepdims\u001B[38;5;241m=\u001B[39m\u001B[38;5;28;01mFalse\u001B[39;00m):\n\u001B[0;32m   4554\u001B[0m \u001B[38;5;250m    \u001B[39m\u001B[38;5;124;03m\"\"\"Assumes that q is in [0, 1], and is an ndarray\"\"\"\u001B[39;00m\n\u001B[1;32m-> 4555\u001B[0m     \u001B[38;5;28;01mreturn\u001B[39;00m \u001B[43m_ureduce\u001B[49m\u001B[43m(\u001B[49m\u001B[43ma\u001B[49m\u001B[43m,\u001B[49m\n\u001B[0;32m   4556\u001B[0m \u001B[43m                    \u001B[49m\u001B[43mfunc\u001B[49m\u001B[38;5;241;43m=\u001B[39;49m\u001B[43m_quantile_ureduce_func\u001B[49m\u001B[43m,\u001B[49m\n\u001B[0;32m   4557\u001B[0m \u001B[43m                    \u001B[49m\u001B[43mq\u001B[49m\u001B[38;5;241;43m=\u001B[39;49m\u001B[43mq\u001B[49m\u001B[43m,\u001B[49m\n\u001B[0;32m   4558\u001B[0m \u001B[43m                    \u001B[49m\u001B[43mkeepdims\u001B[49m\u001B[38;5;241;43m=\u001B[39;49m\u001B[43mkeepdims\u001B[49m\u001B[43m,\u001B[49m\n\u001B[0;32m   4559\u001B[0m \u001B[43m                    \u001B[49m\u001B[43maxis\u001B[49m\u001B[38;5;241;43m=\u001B[39;49m\u001B[43maxis\u001B[49m\u001B[43m,\u001B[49m\n\u001B[0;32m   4560\u001B[0m \u001B[43m                    \u001B[49m\u001B[43mout\u001B[49m\u001B[38;5;241;43m=\u001B[39;49m\u001B[43mout\u001B[49m\u001B[43m,\u001B[49m\n\u001B[0;32m   4561\u001B[0m \u001B[43m                    \u001B[49m\u001B[43moverwrite_input\u001B[49m\u001B[38;5;241;43m=\u001B[39;49m\u001B[43moverwrite_input\u001B[49m\u001B[43m,\u001B[49m\n\u001B[0;32m   4562\u001B[0m \u001B[43m                    \u001B[49m\u001B[43mmethod\u001B[49m\u001B[38;5;241;43m=\u001B[39;49m\u001B[43mmethod\u001B[49m\u001B[43m)\u001B[49m\n",
      "File \u001B[1;32m~\\AppData\\Local\\Programs\\Python\\Python310\\lib\\site-packages\\numpy\\lib\\function_base.py:3823\u001B[0m, in \u001B[0;36m_ureduce\u001B[1;34m(a, func, keepdims, **kwargs)\u001B[0m\n\u001B[0;32m   3820\u001B[0m             index_out \u001B[38;5;241m=\u001B[39m (\u001B[38;5;241m0\u001B[39m, ) \u001B[38;5;241m*\u001B[39m nd\n\u001B[0;32m   3821\u001B[0m             kwargs[\u001B[38;5;124m'\u001B[39m\u001B[38;5;124mout\u001B[39m\u001B[38;5;124m'\u001B[39m] \u001B[38;5;241m=\u001B[39m out[(\u001B[38;5;28mEllipsis\u001B[39m, ) \u001B[38;5;241m+\u001B[39m index_out]\n\u001B[1;32m-> 3823\u001B[0m r \u001B[38;5;241m=\u001B[39m func(a, \u001B[38;5;241m*\u001B[39m\u001B[38;5;241m*\u001B[39mkwargs)\n\u001B[0;32m   3825\u001B[0m \u001B[38;5;28;01mif\u001B[39;00m out \u001B[38;5;129;01mis\u001B[39;00m \u001B[38;5;129;01mnot\u001B[39;00m \u001B[38;5;28;01mNone\u001B[39;00m:\n\u001B[0;32m   3826\u001B[0m     \u001B[38;5;28;01mreturn\u001B[39;00m out\n",
      "File \u001B[1;32m~\\AppData\\Local\\Programs\\Python\\Python310\\lib\\site-packages\\numpy\\lib\\function_base.py:4721\u001B[0m, in \u001B[0;36m_quantile_ureduce_func\u001B[1;34m(a, q, axis, out, overwrite_input, method)\u001B[0m\n\u001B[0;32m   4719\u001B[0m     \u001B[38;5;28;01melse\u001B[39;00m:\n\u001B[0;32m   4720\u001B[0m         arr \u001B[38;5;241m=\u001B[39m a\u001B[38;5;241m.\u001B[39mcopy()\n\u001B[1;32m-> 4721\u001B[0m result \u001B[38;5;241m=\u001B[39m \u001B[43m_quantile\u001B[49m\u001B[43m(\u001B[49m\u001B[43marr\u001B[49m\u001B[43m,\u001B[49m\n\u001B[0;32m   4722\u001B[0m \u001B[43m                   \u001B[49m\u001B[43mquantiles\u001B[49m\u001B[38;5;241;43m=\u001B[39;49m\u001B[43mq\u001B[49m\u001B[43m,\u001B[49m\n\u001B[0;32m   4723\u001B[0m \u001B[43m                   \u001B[49m\u001B[43maxis\u001B[49m\u001B[38;5;241;43m=\u001B[39;49m\u001B[43maxis\u001B[49m\u001B[43m,\u001B[49m\n\u001B[0;32m   4724\u001B[0m \u001B[43m                   \u001B[49m\u001B[43mmethod\u001B[49m\u001B[38;5;241;43m=\u001B[39;49m\u001B[43mmethod\u001B[49m\u001B[43m,\u001B[49m\n\u001B[0;32m   4725\u001B[0m \u001B[43m                   \u001B[49m\u001B[43mout\u001B[49m\u001B[38;5;241;43m=\u001B[39;49m\u001B[43mout\u001B[49m\u001B[43m)\u001B[49m\n\u001B[0;32m   4726\u001B[0m \u001B[38;5;28;01mreturn\u001B[39;00m result\n",
      "File \u001B[1;32m~\\AppData\\Local\\Programs\\Python\\Python310\\lib\\site-packages\\numpy\\lib\\function_base.py:4830\u001B[0m, in \u001B[0;36m_quantile\u001B[1;34m(arr, quantiles, axis, method, out)\u001B[0m\n\u001B[0;32m   4823\u001B[0m arr\u001B[38;5;241m.\u001B[39mpartition(\n\u001B[0;32m   4824\u001B[0m     np\u001B[38;5;241m.\u001B[39munique(np\u001B[38;5;241m.\u001B[39mconcatenate(([\u001B[38;5;241m0\u001B[39m, \u001B[38;5;241m-\u001B[39m\u001B[38;5;241m1\u001B[39m],\n\u001B[0;32m   4825\u001B[0m                               previous_indexes\u001B[38;5;241m.\u001B[39mravel(),\n\u001B[0;32m   4826\u001B[0m                               next_indexes\u001B[38;5;241m.\u001B[39mravel(),\n\u001B[0;32m   4827\u001B[0m                               ))),\n\u001B[0;32m   4828\u001B[0m     axis\u001B[38;5;241m=\u001B[39m\u001B[38;5;241m0\u001B[39m)\n\u001B[0;32m   4829\u001B[0m \u001B[38;5;28;01mif\u001B[39;00m supports_nans:\n\u001B[1;32m-> 4830\u001B[0m     slices_having_nans \u001B[38;5;241m=\u001B[39m np\u001B[38;5;241m.\u001B[39misnan(\u001B[43marr\u001B[49m\u001B[43m[\u001B[49m\u001B[38;5;241;43m-\u001B[39;49m\u001B[38;5;241;43m1\u001B[39;49m\u001B[43m,\u001B[49m\u001B[43m \u001B[49m\u001B[38;5;241;43m.\u001B[39;49m\u001B[38;5;241;43m.\u001B[39;49m\u001B[38;5;241;43m.\u001B[39;49m\u001B[43m]\u001B[49m)\n\u001B[0;32m   4831\u001B[0m \u001B[38;5;28;01melse\u001B[39;00m:\n\u001B[0;32m   4832\u001B[0m     slices_having_nans \u001B[38;5;241m=\u001B[39m \u001B[38;5;28;01mNone\u001B[39;00m\n",
      "\u001B[1;31mIndexError\u001B[0m: index -1 is out of bounds for axis 0 with size 0"
     ]
    }
   ],
   "execution_count": 16
  },
  {
   "metadata": {
    "ExecuteTime": {
     "start_time": "2024-10-19T08:53:37.697674700Z"
    }
   },
   "cell_type": "code",
   "source": [
    "# # Drop outliers\n",
    "# for i, element in enumerate(X):\n",
    "#     if element.shape[0] < lower_bound or element.shape[0] + 1 > upper_bound:\n",
    "#         X.pop(i)\n",
    "#         y.pop(i)"
   ],
   "id": "c651d2c126652436",
   "outputs": [],
   "execution_count": null
  },
  {
   "metadata": {
    "ExecuteTime": {
     "start_time": "2024-10-19T08:53:37.704204900Z"
    }
   },
   "cell_type": "code",
   "source": [
    "Max_dim = 35"
   ],
   "id": "55bc76ca67059583",
   "outputs": [],
   "execution_count": null
  },
  {
   "metadata": {
    "collapsed": false,
    "ExecuteTime": {
     "start_time": "2024-10-19T08:53:37.711727200Z"
    }
   },
   "cell_type": "code",
   "source": [
    "X[0].shape"
   ],
   "id": "116db848228d740c",
   "outputs": [],
   "execution_count": null
  },
  {
   "metadata": {
    "collapsed": false,
    "ExecuteTime": {
     "start_time": "2024-10-19T08:53:37.717726100Z"
    }
   },
   "cell_type": "code",
   "source": [
    "test = X[0]\n",
    "test.shape"
   ],
   "id": "98cbdc8dc77578cc",
   "outputs": [],
   "execution_count": null
  },
  {
   "metadata": {
    "ExecuteTime": {
     "start_time": "2024-10-19T08:53:37.723913800Z"
    }
   },
   "cell_type": "code",
   "source": [
    "test_np = np.array(test)"
   ],
   "id": "7275dee03e6d3205",
   "outputs": [],
   "execution_count": null
  },
  {
   "metadata": {
    "ExecuteTime": {
     "start_time": "2024-10-19T08:53:37.730434200Z"
    }
   },
   "cell_type": "code",
   "source": [
    "test_np[0]"
   ],
   "id": "a927d4933e8001b2",
   "outputs": [],
   "execution_count": null
  },
  {
   "cell_type": "code",
   "source": [
    "X_train_temp = []\n",
    "Y_train_temp = []\n",
    "\n",
    "\n",
    "def pad_length(ele, max_dim, metric_temp: list = None) -> np.array:\n",
    "    if metric_temp is None:\n",
    "        metric_temp = []\n",
    "    if ele.shape[0] == max_dim:\n",
    "        return ele\n",
    "\n",
    "    step = max(1, ele.shape[0] // (max_dim - ele.shape[0]))\n",
    "\n",
    "    for j in range(0, ele.shape[0]):\n",
    "        metric_temp.append(ele[j])\n",
    "        if len(metric_temp) == max_dim:\n",
    "            break\n",
    "        if j % step == 0:\n",
    "            metric_temp.append(ele[j])\n",
    "        if len(metric_temp) == max_dim:\n",
    "            break\n",
    "    return pad_length(np.array(metric_temp), max_dim)\n",
    "\n",
    "\n",
    "def truncate_length(ele, max_dim, start=0) -> np.array:\n",
    "    if ele.shape[0] == max_dim:\n",
    "        return pd.DataFrame(ele)\n",
    "\n",
    "    metrics_temp = []\n",
    "    step = max(2, ele.shape[0] // (ele.shape[0] - max_dim))\n",
    "    j = start\n",
    "    while len(metrics_temp) != max_dim:\n",
    "        metrics_temp.append(ele[j])\n",
    "        j = (j + step) % ele.shape[0]\n",
    "    return np.array(metrics_temp)\n",
    "\n",
    "\n",
    "def pad_and_truncate(ele, max_dim: int = 35) -> np.array:\n",
    "    list_elements = []\n",
    "    current_length = ele.shape[0]\n",
    "\n",
    "    if current_length == max_dim:\n",
    "        return [ele]\n",
    "\n",
    "    dev = max(int(round(current_length / max_dim)), 1)\n",
    "    if dev * max_dim > current_length:\n",
    "        new_element = pad_length(ele, max_dim * dev)\n",
    "\n",
    "        if new_element.shape[0] > max_dim:\n",
    "            for step in range(dev):\n",
    "                list_elements.append(truncate_length(new_element, max_dim, step))\n",
    "        else:\n",
    "            list_elements.append(new_element)\n",
    "    else:\n",
    "        for step in range(dev):\n",
    "            list_elements.append(truncate_length(ele, max_dim, step))\n",
    "    return list_elements\n",
    "\n",
    "\n",
    "# Pad all sequences to the same length\n",
    "for i, element in enumerate(X):\n",
    "    print(f\"Before padding, element {i} shape: {np.shape(element)}\")\n",
    "    padded_element = pad_and_truncate(np.array(element), Max_dim)\n",
    "    print(f\"After padding, element {i} shape: {np.shape(padded_element)}\")\n",
    "    X_train_temp = X_train_temp + padded_element\n",
    "    Y_train_temp = Y_train_temp + [y[i]] * len(padded_element)\n",
    "    print('y[i]: ', y[i])\n",
    "    print(f'padded_element: {np.shape(padded_element)}')\n",
    "    print(f\"After padding X_train_temp, element {i} shape: {np.shape(X_train_temp)}\")\n",
    "    print(f\"After padding Y_train_temp, element {i} shape: {np.shape(Y_train_temp)}\")\n",
    "    print('-----------------------------------')\n",
    "# test = X[15]\n",
    "# padded_element = pad_and_truncate(test, Max_dim)\n",
    "# np.array(padded_element).shape"
   ],
   "metadata": {
    "collapsed": false,
    "ExecuteTime": {
     "start_time": "2024-10-19T08:53:37.735460300Z"
    }
   },
   "id": "4b7d64ba0215749d",
   "outputs": [],
   "execution_count": null
  },
  {
   "cell_type": "code",
   "source": [
    "X_train_ = np.array(X_train_temp)"
   ],
   "metadata": {
    "collapsed": false,
    "ExecuteTime": {
     "start_time": "2024-10-19T08:53:37.743977900Z"
    }
   },
   "id": "19da526187b5e3fc",
   "outputs": [],
   "execution_count": null
  },
  {
   "cell_type": "code",
   "source": [
    "X_train_temp"
   ],
   "metadata": {
    "collapsed": false,
    "ExecuteTime": {
     "end_time": "2024-10-19T08:53:37.920665200Z",
     "start_time": "2024-10-19T08:53:37.747981200Z"
    }
   },
   "id": "63999b52b6d65d49",
   "outputs": [],
   "execution_count": null
  },
  {
   "metadata": {
    "ExecuteTime": {
     "start_time": "2024-10-19T08:53:37.752517Z"
    }
   },
   "cell_type": "code",
   "source": [
    "X_train = np.full((X_train_.shape[0], X_train_.shape[1], X_train_.shape[2], 3), np.nan, dtype=np.float32)\n",
    "\n",
    "for i, element in enumerate(X_train_):\n",
    "    for j, row in enumerate(element):\n",
    "        for k, value in enumerate(row):\n",
    "            # Check if the value is np.array([nan, nan, nan])\n",
    "            if np.isnan(value).all():\n",
    "                X_train_[i][j][k] = np.array([np.nan, np.nan, np.nan], dtype=np.float32)\n",
    "            else:\n",
    "                X_train_[i][j][k] = value\n",
    "\n",
    "            X_train[i][j][k] = X_train_[i][j][k][:3]"
   ],
   "id": "3c266a492309c825",
   "outputs": [],
   "execution_count": null
  },
  {
   "metadata": {
    "ExecuteTime": {
     "start_time": "2024-10-19T08:53:37.757515100Z"
    }
   },
   "cell_type": "code",
   "source": [
    "X_train.shape"
   ],
   "id": "6989829fb14b05f6",
   "outputs": [],
   "execution_count": null
  },
  {
   "metadata": {},
   "cell_type": "markdown",
   "source": [
    "## Handle Fill NaN Values\n",
    "\n",
    "### Step 1: Compute the variance of each metric for each sequence.\n",
    "\n",
    "### Step 2: Fill NaN\n",
    "   * **Case 1**: If `element[i]` doesn't have a value before, then get the value from the nearest posterior element, and adjust by adding or subtracting the variance of the metric.\n",
    "   * **Case 2**: If `element[i]` doesn't have a value after, then get the value from the nearest previous element, and adjust by adding or subtracting the variance of the metric.\n",
    "   * **Case 3**: If `element[i]` has values both before and after, then use the nearest previous and posterior elements:\n",
    "     - For \\( k < i < l \\):\n",
    "\n",
    "$$\n",
    "\\text{element}[i] = \\text{element}[k] + (\\text{element}[l] - \\text{element}[k]) \\times \\frac{i - k}{l - k}\n",
    "$$\n"
   ],
   "id": "d4b5c6dc3cfe98c7"
  },
  {
   "metadata": {},
   "cell_type": "markdown",
   "source": [
    "### Step 1: Compute the variance of each metric for each sequence."
   ],
   "id": "feabd6b588cad12b"
  },
  {
   "metadata": {
    "ExecuteTime": {
     "start_time": "2024-10-19T08:53:37.762045600Z"
    }
   },
   "cell_type": "code",
   "source": [
    "X_train.shape"
   ],
   "id": "6ce87c1b76073070",
   "outputs": [],
   "execution_count": null
  },
  {
   "metadata": {
    "ExecuteTime": {
     "start_time": "2024-10-19T08:53:37.765051100Z"
    }
   },
   "cell_type": "code",
   "source": [
    "cnt = 0"
   ],
   "id": "d820f4a0d3e81910",
   "outputs": [],
   "execution_count": null
  },
  {
   "metadata": {
    "ExecuteTime": {
     "start_time": "2024-10-19T08:53:37.768043600Z"
    }
   },
   "cell_type": "code",
   "source": [
    "np.nanvar(X_train[0][:, 0], axis=0)"
   ],
   "id": "ef1e1e09debbece3",
   "outputs": [],
   "execution_count": null
  },
  {
   "metadata": {
    "ExecuteTime": {
     "start_time": "2024-10-19T08:53:37.772449100Z"
    }
   },
   "cell_type": "code",
   "source": [
    "variance_metric = np.empty((X_train.shape[0], X_train.shape[2], 3), dtype=np.float32)\n",
    "variance_metric.shape"
   ],
   "id": "e7b59d39b941343c",
   "outputs": [],
   "execution_count": null
  },
  {
   "metadata": {
    "ExecuteTime": {
     "start_time": "2024-10-19T08:53:37.776771600Z"
    }
   },
   "cell_type": "code",
   "source": [
    "X_train[0][:, 0].shape"
   ],
   "id": "926bc024f65e7560",
   "outputs": [
    {
     "ename": "NameError",
     "evalue": "name 'X_train' is not defined",
     "output_type": "error",
     "traceback": [
      "\u001B[1;31m---------------------------------------------------------------------------\u001B[0m",
      "\u001B[1;31mNameError\u001B[0m                                 Traceback (most recent call last)",
      "Cell \u001B[1;32mIn[17], line 1\u001B[0m\n\u001B[1;32m----> 1\u001B[0m \u001B[43mX_train\u001B[49m[\u001B[38;5;241m0\u001B[39m][:, \u001B[38;5;241m0\u001B[39m]\u001B[38;5;241m.\u001B[39mshape\n",
      "\u001B[1;31mNameError\u001B[0m: name 'X_train' is not defined"
     ]
    }
   ],
   "execution_count": 17
  },
  {
   "metadata": {
    "ExecuteTime": {
     "end_time": "2024-10-19T08:53:38.219075100Z",
     "start_time": "2024-10-19T08:53:37.995033800Z"
    }
   },
   "cell_type": "code",
   "source": [
    "np.nanvar(X_train[1][:, 0], axis=0)"
   ],
   "id": "84a50b63e164cccc",
   "outputs": [
    {
     "ename": "NameError",
     "evalue": "name 'X_train' is not defined",
     "output_type": "error",
     "traceback": [
      "\u001B[1;31m---------------------------------------------------------------------------\u001B[0m",
      "\u001B[1;31mNameError\u001B[0m                                 Traceback (most recent call last)",
      "Cell \u001B[1;32mIn[18], line 1\u001B[0m\n\u001B[1;32m----> 1\u001B[0m np\u001B[38;5;241m.\u001B[39mnanvar(\u001B[43mX_train\u001B[49m[\u001B[38;5;241m1\u001B[39m][:, \u001B[38;5;241m0\u001B[39m], axis\u001B[38;5;241m=\u001B[39m\u001B[38;5;241m0\u001B[39m)\n",
      "\u001B[1;31mNameError\u001B[0m: name 'X_train' is not defined"
     ]
    }
   ],
   "execution_count": 18
  },
  {
   "metadata": {
    "ExecuteTime": {
     "end_time": "2024-10-19T08:53:38.367490900Z",
     "start_time": "2024-10-19T08:53:38.224517400Z"
    }
   },
   "cell_type": "code",
   "source": [
    "cls_nan = dict()\n",
    "\n",
    "for i, element in enumerate(X_train):\n",
    "    sub_variance_metric = np.empty((element.shape[1], 3), dtype=np.float32)\n",
    "\n",
    "    for j in range(element.shape[1]):\n",
    "        variance = np.array([np.nan, np.nan, np.nan], dtype=np.float32)\n",
    "\n",
    "        # If there are more than 1 non-NaN values, calculate variance\n",
    "        if np.count_nonzero(~np.isnan(element[:, j])) > 1:\n",
    "            variance = np.nanvar(element[:, j], axis=0)\n",
    "            print(variance)\n",
    "        else:\n",
    "            if i not in cls_nan:\n",
    "                cls_nan[i] = []\n",
    "            cls_nan[i].append(j)\n",
    "        # convert to list\n",
    "        sub_variance_metric[j] = variance\n",
    "    # print(sub_variance_metric)\n",
    "    variance_metric[i] = sub_variance_metric"
   ],
   "id": "bd687fae0809743e",
   "outputs": [
    {
     "ename": "NameError",
     "evalue": "name 'X_train' is not defined",
     "output_type": "error",
     "traceback": [
      "\u001B[1;31m---------------------------------------------------------------------------\u001B[0m",
      "\u001B[1;31mNameError\u001B[0m                                 Traceback (most recent call last)",
      "Cell \u001B[1;32mIn[19], line 3\u001B[0m\n\u001B[0;32m      1\u001B[0m cls_nan \u001B[38;5;241m=\u001B[39m \u001B[38;5;28mdict\u001B[39m()\n\u001B[1;32m----> 3\u001B[0m \u001B[38;5;28;01mfor\u001B[39;00m i, element \u001B[38;5;129;01min\u001B[39;00m \u001B[38;5;28menumerate\u001B[39m(\u001B[43mX_train\u001B[49m):\n\u001B[0;32m      4\u001B[0m     sub_variance_metric \u001B[38;5;241m=\u001B[39m np\u001B[38;5;241m.\u001B[39mempty((element\u001B[38;5;241m.\u001B[39mshape[\u001B[38;5;241m1\u001B[39m], \u001B[38;5;241m3\u001B[39m), dtype\u001B[38;5;241m=\u001B[39mnp\u001B[38;5;241m.\u001B[39mfloat32)\n\u001B[0;32m      6\u001B[0m     \u001B[38;5;28;01mfor\u001B[39;00m j \u001B[38;5;129;01min\u001B[39;00m \u001B[38;5;28mrange\u001B[39m(element\u001B[38;5;241m.\u001B[39mshape[\u001B[38;5;241m1\u001B[39m]):\n",
      "\u001B[1;31mNameError\u001B[0m: name 'X_train' is not defined"
     ]
    }
   ],
   "execution_count": 19
  },
  {
   "metadata": {
    "ExecuteTime": {
     "start_time": "2024-10-19T08:53:38.295893400Z"
    }
   },
   "cell_type": "code",
   "source": [
    "variance_metric = np.array([variance_metric], dtype=np.float32)"
   ],
   "id": "b0098ea0bda4a36b",
   "outputs": [
    {
     "ename": "NameError",
     "evalue": "name 'variance_metric' is not defined",
     "output_type": "error",
     "traceback": [
      "\u001B[1;31m---------------------------------------------------------------------------\u001B[0m",
      "\u001B[1;31mNameError\u001B[0m                                 Traceback (most recent call last)",
      "Cell \u001B[1;32mIn[20], line 1\u001B[0m\n\u001B[1;32m----> 1\u001B[0m variance_metric \u001B[38;5;241m=\u001B[39m np\u001B[38;5;241m.\u001B[39marray([\u001B[43mvariance_metric\u001B[49m], dtype\u001B[38;5;241m=\u001B[39mnp\u001B[38;5;241m.\u001B[39mfloat32)\n",
      "\u001B[1;31mNameError\u001B[0m: name 'variance_metric' is not defined"
     ]
    }
   ],
   "execution_count": 20
  },
  {
   "metadata": {
    "ExecuteTime": {
     "end_time": "2024-10-19T08:53:38.585302900Z",
     "start_time": "2024-10-19T08:53:38.430383700Z"
    }
   },
   "cell_type": "code",
   "source": [
    "variance_metric = variance_metric.reshape(variance_metric.shape[1], variance_metric.shape[2], variance_metric.shape[3])"
   ],
   "id": "dba2d877f19bb515",
   "outputs": [
    {
     "ename": "NameError",
     "evalue": "name 'variance_metric' is not defined",
     "output_type": "error",
     "traceback": [
      "\u001B[1;31m---------------------------------------------------------------------------\u001B[0m",
      "\u001B[1;31mNameError\u001B[0m                                 Traceback (most recent call last)",
      "Cell \u001B[1;32mIn[21], line 1\u001B[0m\n\u001B[1;32m----> 1\u001B[0m variance_metric \u001B[38;5;241m=\u001B[39m \u001B[43mvariance_metric\u001B[49m\u001B[38;5;241m.\u001B[39mreshape(variance_metric\u001B[38;5;241m.\u001B[39mshape[\u001B[38;5;241m1\u001B[39m], variance_metric\u001B[38;5;241m.\u001B[39mshape[\u001B[38;5;241m2\u001B[39m], variance_metric\u001B[38;5;241m.\u001B[39mshape[\u001B[38;5;241m3\u001B[39m])\n",
      "\u001B[1;31mNameError\u001B[0m: name 'variance_metric' is not defined"
     ]
    }
   ],
   "execution_count": 21
  },
  {
   "metadata": {
    "ExecuteTime": {
     "start_time": "2024-10-19T08:53:38.583304700Z"
    }
   },
   "cell_type": "code",
   "source": [
    "variance_metric.shape"
   ],
   "id": "314c617e67b3abcf",
   "outputs": [
    {
     "ename": "NameError",
     "evalue": "name 'variance_metric' is not defined",
     "output_type": "error",
     "traceback": [
      "\u001B[1;31m---------------------------------------------------------------------------\u001B[0m",
      "\u001B[1;31mNameError\u001B[0m                                 Traceback (most recent call last)",
      "Cell \u001B[1;32mIn[22], line 1\u001B[0m\n\u001B[1;32m----> 1\u001B[0m \u001B[43mvariance_metric\u001B[49m\u001B[38;5;241m.\u001B[39mshape\n",
      "\u001B[1;31mNameError\u001B[0m: name 'variance_metric' is not defined"
     ]
    }
   ],
   "execution_count": 22
  },
  {
   "metadata": {
    "ExecuteTime": {
     "end_time": "2024-10-19T08:53:38.800205Z",
     "start_time": "2024-10-19T08:53:38.624022100Z"
    }
   },
   "cell_type": "code",
   "source": [
    "# convert to cls_nan to pandas dataframe\n",
    "cls_nan.keys()"
   ],
   "id": "f0c5ebe91e15e50a",
   "outputs": [
    {
     "data": {
      "text/plain": "dict_keys([])"
     },
     "execution_count": 23,
     "metadata": {},
     "output_type": "execute_result"
    }
   ],
   "execution_count": 23
  },
  {
   "metadata": {
    "ExecuteTime": {
     "end_time": "2024-10-19T08:53:38.890699900Z",
     "start_time": "2024-10-19T08:53:38.779174400Z"
    }
   },
   "cell_type": "code",
   "source": [
    "LABEL"
   ],
   "id": "daac5b62ee6506ab",
   "outputs": [
    {
     "data": {
      "text/plain": "{'Jump': 0, 'Kick': 1, 'Punch': 2, 'Left': 3, 'Right': 4, 'Stand': 5}"
     },
     "execution_count": 24,
     "metadata": {},
     "output_type": "execute_result"
    }
   ],
   "execution_count": 24
  },
  {
   "metadata": {},
   "cell_type": "markdown",
   "source": [
    "### Step 2: Fill NaN\n",
    "   * **Case 1**: If `element[i]` doesn't have a value before, then get the value from the nearest posterior element, and adjust by adding or subtracting the variance of the metric.\n",
    "   * **Case 2**: If `element[i]` doesn't have a value after, then get the value from the nearest previous element, and adjust by adding or subtracting the variance of the metric.\n",
    "   * **Case 3**: If `element[i]` has values both before and after, then use the nearest previous and posterior elements:\n",
    "     - For \\( k < i < l \\):\n",
    "\n",
    "$$\n",
    "\\text{element}[i] = \\text{element}[k] + (\\text{element}[l] - \\text{element}[k]) \\times \\frac{i - k}{l - k}\n",
    "$$\n"
   ],
   "id": "764a362c9ec632aa"
  },
  {
   "metadata": {
    "ExecuteTime": {
     "end_time": "2024-10-19T08:53:39.050010Z",
     "start_time": "2024-10-19T08:53:38.896719300Z"
    }
   },
   "cell_type": "code",
   "source": [
    "X_train.shape"
   ],
   "id": "109a465ed82e28a4",
   "outputs": [
    {
     "ename": "NameError",
     "evalue": "name 'X_train' is not defined",
     "output_type": "error",
     "traceback": [
      "\u001B[1;31m---------------------------------------------------------------------------\u001B[0m",
      "\u001B[1;31mNameError\u001B[0m                                 Traceback (most recent call last)",
      "Cell \u001B[1;32mIn[25], line 1\u001B[0m\n\u001B[1;32m----> 1\u001B[0m \u001B[43mX_train\u001B[49m\u001B[38;5;241m.\u001B[39mshape\n",
      "\u001B[1;31mNameError\u001B[0m: name 'X_train' is not defined"
     ]
    }
   ],
   "execution_count": 25
  },
  {
   "metadata": {
    "ExecuteTime": {
     "start_time": "2024-10-19T08:53:38.969114500Z"
    }
   },
   "cell_type": "code",
   "source": [
    "variance_metric.shape"
   ],
   "id": "27c5e6ad24291477",
   "outputs": [
    {
     "ename": "NameError",
     "evalue": "name 'variance_metric' is not defined",
     "output_type": "error",
     "traceback": [
      "\u001B[1;31m---------------------------------------------------------------------------\u001B[0m",
      "\u001B[1;31mNameError\u001B[0m                                 Traceback (most recent call last)",
      "Cell \u001B[1;32mIn[26], line 1\u001B[0m\n\u001B[1;32m----> 1\u001B[0m \u001B[43mvariance_metric\u001B[49m\u001B[38;5;241m.\u001B[39mshape\n",
      "\u001B[1;31mNameError\u001B[0m: name 'variance_metric' is not defined"
     ]
    }
   ],
   "execution_count": 26
  },
  {
   "metadata": {
    "ExecuteTime": {
     "end_time": "2024-10-19T08:53:39.259285800Z",
     "start_time": "2024-10-19T08:53:39.086947600Z"
    }
   },
   "cell_type": "code",
   "source": [
    "# Function to fill NaN values based on the described cases\n",
    "def fill_nan(element, variance_metric):\n",
    "    old_value = None\n",
    "    k = 0\n",
    "\n",
    "    for i in range(element.shape[0]):\n",
    "        if np.isnan(element[i]).all():\n",
    "            # Case 1: If element[i] doesn't have a value before, then get the value from the nearest posterior element, and adjust by adding or subtracting the variance of the metric.\n",
    "            if old_value is None:\n",
    "                for l in range(i + 1, element.shape[0]):\n",
    "                    if not np.isnan(element[l]).all():\n",
    "                        element[i] = element[l] + abs(i - l) * variance_metric\n",
    "                        break\n",
    "            else:\n",
    "                # Case 2: If element[i] doesn't have a value after, then get the value from the nearest previous element, and adjust by adding or subtracting the variance of the metric.\n",
    "                flat = False\n",
    "                for l in range(i + 1, element.shape[0]):\n",
    "                    if not np.isnan(element[l]).all():\n",
    "                        if l != k:\n",
    "                            element[i] = old_value + (element[l] - old_value) / ((i - k) / (l - k))\n",
    "                            flat = True\n",
    "                            break\n",
    "                if not flat:\n",
    "                    # Case 3: If element[i] has values both before and after, then use the nearest previous and posterior elements\n",
    "                    element[i] = old_value - abs(i - k) * variance_metric\n",
    "        old_value = element[i]\n",
    "    return element"
   ],
   "id": "c1c5be959ae5dd5e",
   "outputs": [],
   "execution_count": 27
  },
  {
   "metadata": {
    "ExecuteTime": {
     "end_time": "2024-10-19T08:53:39.371850300Z",
     "start_time": "2024-10-19T08:53:39.235050Z"
    }
   },
   "cell_type": "code",
   "source": [
    "X_train_new = np.empty(X_train.shape, dtype=np.float32)\n",
    "for i in range(X_train.shape[0]):\n",
    "    for j in range(X_train.shape[2]):\n",
    "        # print(\"Shape of element: \", X_train[i][: , j].shape)\n",
    "        # print(\"Shape of variance: \", variance_metric[i][j].shape)\n",
    "        X_train_new[i][:, j] = fill_nan(X_train[i][:, j], variance_metric[i][j])"
   ],
   "id": "9f19732aa6c4e9e7",
   "outputs": [
    {
     "ename": "NameError",
     "evalue": "name 'X_train' is not defined",
     "output_type": "error",
     "traceback": [
      "\u001B[1;31m---------------------------------------------------------------------------\u001B[0m",
      "\u001B[1;31mNameError\u001B[0m                                 Traceback (most recent call last)",
      "Cell \u001B[1;32mIn[28], line 1\u001B[0m\n\u001B[1;32m----> 1\u001B[0m X_train_new \u001B[38;5;241m=\u001B[39m np\u001B[38;5;241m.\u001B[39mempty(\u001B[43mX_train\u001B[49m\u001B[38;5;241m.\u001B[39mshape, dtype\u001B[38;5;241m=\u001B[39mnp\u001B[38;5;241m.\u001B[39mfloat32)\n\u001B[0;32m      2\u001B[0m \u001B[38;5;28;01mfor\u001B[39;00m i \u001B[38;5;129;01min\u001B[39;00m \u001B[38;5;28mrange\u001B[39m(X_train\u001B[38;5;241m.\u001B[39mshape[\u001B[38;5;241m0\u001B[39m]):\n\u001B[0;32m      3\u001B[0m     \u001B[38;5;28;01mfor\u001B[39;00m j \u001B[38;5;129;01min\u001B[39;00m \u001B[38;5;28mrange\u001B[39m(X_train\u001B[38;5;241m.\u001B[39mshape[\u001B[38;5;241m2\u001B[39m]):\n\u001B[0;32m      4\u001B[0m         \u001B[38;5;66;03m# print(\"Shape of element: \", X_train[i][: , j].shape)\u001B[39;00m\n\u001B[0;32m      5\u001B[0m         \u001B[38;5;66;03m# print(\"Shape of variance: \", variance_metric[i][j].shape)\u001B[39;00m\n",
      "\u001B[1;31mNameError\u001B[0m: name 'X_train' is not defined"
     ]
    }
   ],
   "execution_count": 28
  },
  {
   "metadata": {
    "ExecuteTime": {
     "start_time": "2024-10-19T08:53:39.327217800Z"
    }
   },
   "cell_type": "code",
   "source": [
    "# Save the processed data\n",
    "np.save('X_train.npy', X_train_new)\n",
    "np.save('y_train.npy', Y_train_temp)"
   ],
   "id": "1e4ec5287a5bd64e",
   "outputs": [
    {
     "ename": "NameError",
     "evalue": "name 'X_train_new' is not defined",
     "output_type": "error",
     "traceback": [
      "\u001B[1;31m---------------------------------------------------------------------------\u001B[0m",
      "\u001B[1;31mNameError\u001B[0m                                 Traceback (most recent call last)",
      "Cell \u001B[1;32mIn[29], line 2\u001B[0m\n\u001B[0;32m      1\u001B[0m \u001B[38;5;66;03m# Save the processed data\u001B[39;00m\n\u001B[1;32m----> 2\u001B[0m np\u001B[38;5;241m.\u001B[39msave(\u001B[38;5;124m'\u001B[39m\u001B[38;5;124mX_train.npy\u001B[39m\u001B[38;5;124m'\u001B[39m, \u001B[43mX_train_new\u001B[49m)\n\u001B[0;32m      3\u001B[0m np\u001B[38;5;241m.\u001B[39msave(\u001B[38;5;124m'\u001B[39m\u001B[38;5;124my_train.npy\u001B[39m\u001B[38;5;124m'\u001B[39m, Y_train_temp)\n",
      "\u001B[1;31mNameError\u001B[0m: name 'X_train_new' is not defined"
     ]
    }
   ],
   "execution_count": 29
  },
  {
   "metadata": {
    "ExecuteTime": {
     "end_time": "2024-10-19T08:53:39.615685500Z",
     "start_time": "2024-10-19T08:53:39.427045700Z"
    }
   },
   "cell_type": "code",
   "source": [
    "import numpy as np\n",
    "\n",
    "# Load the processed data\n",
    "X_train = np.load('X_train.npy')\n",
    "y_train = np.load('y_train.npy')"
   ],
   "id": "381f1dcf7a640925",
   "outputs": [],
   "execution_count": 30
  },
  {
   "metadata": {
    "ExecuteTime": {
     "end_time": "2024-10-19T08:53:39.793480500Z",
     "start_time": "2024-10-19T08:53:39.580115800Z"
    }
   },
   "cell_type": "code",
   "source": [
    "for i in range(X_train.shape[0]):\n",
    "    for j in range(X_train.shape[2]):\n",
    "        if np.isnan(X_train[i][:, j]).sum() > 0:\n",
    "            print(f\"Element {i}, Metric {j}, NaN: {np.isnan(X_train[i][:, j]).sum()}\")"
   ],
   "id": "ca96c828ff531519",
   "outputs": [],
   "execution_count": 31
  },
  {
   "metadata": {
    "ExecuteTime": {
     "end_time": "2024-10-19T08:53:39.816340700Z",
     "start_time": "2024-10-19T08:53:39.748117900Z"
    }
   },
   "cell_type": "code",
   "source": [
    "# Drop the NaN values\n",
    "X_new_train = []\n",
    "y_new_train = []\n",
    "for i in range(X_train.shape[0]):\n",
    "    if np.isnan(X_train[i]).sum() == 0:\n",
    "        X_new_train.append(X_train[i])\n",
    "        y_new_train.append(y_train[i])\n",
    "\n",
    "X_new_train = np.array(X_new_train)\n",
    "y_new_train = np.array(y_new_train)\n"
   ],
   "id": "fd0ad5b293d173fc",
   "outputs": [],
   "execution_count": 32
  },
  {
   "metadata": {
    "ExecuteTime": {
     "end_time": "2024-10-19T08:53:39.933881200Z",
     "start_time": "2024-10-19T08:53:39.794478900Z"
    }
   },
   "cell_type": "code",
   "source": [
    "X_train.shape"
   ],
   "id": "6b4d54f7ceddb2e0",
   "outputs": [
    {
     "data": {
      "text/plain": "(666, 35, 33, 3)"
     },
     "execution_count": 33,
     "metadata": {},
     "output_type": "execute_result"
    }
   ],
   "execution_count": 33
  },
  {
   "metadata": {
    "ExecuteTime": {
     "end_time": "2024-10-19T08:53:40.185151200Z",
     "start_time": "2024-10-19T08:53:39.928854600Z"
    }
   },
   "cell_type": "code",
   "source": [
    "for i in range(X_new_train.shape[0]):\n",
    "    for j in range(X_new_train.shape[2]):\n",
    "        if np.isnan(X_new_train[i][:, j]).sum() > 0:\n",
    "            print(f\"Element {i}, Metric {j}, NaN: {np.isnan(X_new_train[i][:, j]).sum()}\")"
   ],
   "id": "84ab418f5e7c34a9",
   "outputs": [],
   "execution_count": 34
  },
  {
   "metadata": {
    "ExecuteTime": {
     "end_time": "2024-10-19T08:54:41.482401100Z",
     "start_time": "2024-10-19T08:54:41.327567900Z"
    }
   },
   "cell_type": "code",
   "source": [
    "len(X_new_train)"
   ],
   "id": "20fcddb0784a2483",
   "outputs": [
    {
     "data": {
      "text/plain": "666"
     },
     "execution_count": 38,
     "metadata": {},
     "output_type": "execute_result"
    }
   ],
   "execution_count": 38
  },
  {
   "metadata": {},
   "cell_type": "markdown",
   "source": [
    "## LSTM model LSTM model"
   ],
   "id": "b918cb6cbe257277"
  },
  {
   "metadata": {
    "ExecuteTime": {
     "end_time": "2024-10-19T08:54:45.663746100Z",
     "start_time": "2024-10-19T08:54:45.581034700Z"
    }
   },
   "cell_type": "code",
   "source": [
    "import os\n",
    "\n",
    "os.environ['TF_CPP_MIN_LOG_LEVEL'] = '3'"
   ],
   "id": "1d191c1c8a672e7",
   "outputs": [],
   "execution_count": 39
  },
  {
   "cell_type": "markdown",
   "source": [],
   "metadata": {
    "collapsed": false
   },
   "id": "af6f8a8f42ac7c83"
  },
  {
   "metadata": {
    "ExecuteTime": {
     "end_time": "2024-10-19T08:57:38.820577800Z",
     "start_time": "2024-10-19T08:57:38.757891700Z"
    }
   },
   "cell_type": "code",
   "source": [
    "X_new_train.shape"
   ],
   "id": "940a5e375a377e33",
   "outputs": [
    {
     "data": {
      "text/plain": "(666, 35, 33, 3)"
     },
     "execution_count": 47,
     "metadata": {},
     "output_type": "execute_result"
    }
   ],
   "execution_count": 47
  },
  {
   "metadata": {
    "ExecuteTime": {
     "end_time": "2024-10-19T08:54:54.357469600Z",
     "start_time": "2024-10-19T08:54:54.302197700Z"
    }
   },
   "cell_type": "code",
   "source": [
    "# Reshape the data\n",
    "X_train_reshaped = X_new_train.reshape(X_new_train.shape[0], X_new_train.shape[1],\n",
    "                                       X_new_train.shape[2] * X_new_train.shape[3])"
   ],
   "id": "ca6549a1344f6c5d",
   "outputs": [],
   "execution_count": 41
  },
  {
   "metadata": {
    "ExecuteTime": {
     "end_time": "2024-10-19T10:14:08.459498900Z",
     "start_time": "2024-10-19T10:14:08.238615600Z"
    }
   },
   "cell_type": "code",
   "source": [
    "X_train_reshaped.shape"
   ],
   "id": "84f8e99a00a87249",
   "outputs": [
    {
     "data": {
      "text/plain": "(532, 35, 99)"
     },
     "execution_count": 73,
     "metadata": {},
     "output_type": "execute_result"
    }
   ],
   "execution_count": 73
  },
  {
   "metadata": {
    "ExecuteTime": {
     "end_time": "2024-10-19T08:55:11.834926900Z",
     "start_time": "2024-10-19T08:55:11.267060100Z"
    }
   },
   "cell_type": "code",
   "source": [
    "# divide validation set and train set\n",
    "from sklearn.model_selection import train_test_split\n",
    "\n",
    "X_train_reshaped, X_val, y_new_train, y_val = train_test_split(X_train_reshaped, y_new_train, test_size=0.2, random_state=42)"
   ],
   "id": "4166b252f79e8d99",
   "outputs": [],
   "execution_count": 43
  },
  {
   "cell_type": "code",
   "outputs": [],
   "source": [
    "hidden_size = [ 1024, 512, 256, 128 ]\n",
    "lstm_layer = 1\n",
    "patch_size = 99\n",
    "num_classes = 6\n",
    "num_epochs = 100\n",
    "batch_size = 256\n",
    "learning_rate = 0.001\n",
    "momentum = 0.9\n",
    "number_block = 1\n",
    "max_dim = 50\n",
    "device = 'cpu'"
   ],
   "metadata": {
    "collapsed": false,
    "ExecuteTime": {
     "end_time": "2024-10-19T09:00:27.881939300Z",
     "start_time": "2024-10-19T09:00:27.801415100Z"
    }
   },
   "id": "602d281adad69b12",
   "execution_count": 51
  },
  {
   "cell_type": "code",
   "outputs": [],
   "source": [
    "from src.models.model import Model\n",
    "import torch\n",
    "from torchinfo import summary\n"
   ],
   "metadata": {
    "collapsed": false,
    "ExecuteTime": {
     "end_time": "2024-10-19T10:01:51.636014300Z",
     "start_time": "2024-10-19T10:01:51.605489400Z"
    }
   },
   "id": "8ba0952531f91ce8",
   "execution_count": 69
  },
  {
   "cell_type": "code",
   "outputs": [
    {
     "data": {
      "text/plain": "(532, 35, 99)"
     },
     "execution_count": 72,
     "metadata": {},
     "output_type": "execute_result"
    }
   ],
   "source": [
    "X_train_reshaped.shape"
   ],
   "metadata": {
    "collapsed": false,
    "ExecuteTime": {
     "end_time": "2024-10-19T10:06:27.230718100Z",
     "start_time": "2024-10-19T10:06:27.078794800Z"
    }
   },
   "id": "99bee833729c6826",
   "execution_count": 72
  },
  {
   "cell_type": "code",
   "outputs": [
    {
     "data": {
      "text/plain": "==========================================================================================\nLayer (type:depth-idx)                   Output Shape              Param #\n==========================================================================================\nDeepLSTMBiModel                          [256, 6]                  --\n├─LSTM: 1-1                              [256, 35, 2048]           9,216,000\n├─Dropout: 1-2                           [256, 35, 2048]           --\n├─LayerNorm: 1-3                         [256, 35, 2048]           4,096\n├─LSTM: 1-4                              [256, 35, 1024]           10,493,952\n├─Dropout: 1-5                           [256, 35, 1024]           --\n├─LayerNorm: 1-6                         [256, 35, 1024]           2,048\n├─LSTM: 1-7                              [256, 35, 512]            2,625,536\n├─Dropout: 1-8                           [256, 35, 512]            --\n├─LayerNorm: 1-9                         [256, 35, 512]            1,024\n├─LSTM: 1-10                             [256, 35, 256]            657,408\n├─Dropout: 1-11                          [256, 35, 256]            --\n├─LayerNorm: 1-12                        [256, 35, 256]            512\n├─Linear: 1-13                           [256, 6]                  1,542\n==========================================================================================\nTotal params: 23,002,118\nTrainable params: 23,002,118\nNon-trainable params: 0\nTotal mult-adds (G): 206.02\n==========================================================================================\nInput size (MB): 3.55\nForward/backward pass size (MB): 550.51\nParams size (MB): 92.01\nEstimated Total Size (MB): 646.07\n=========================================================================================="
     },
     "execution_count": 70,
     "metadata": {},
     "output_type": "execute_result"
    }
   ],
   "source": [
    "model = Model(\n",
    "    input_size=X_train_reshaped.shape[2],\n",
    "    num_classes=num_classes,\n",
    "    patch_size=patch_size,\n",
    "    lstm_layer=lstm_layer,\n",
    "    hidden_size=hidden_size,\n",
    "    number_block=number_block,\n",
    "    device=device,\n",
    ")\n",
    "summary(model.lstm, input_size=(batch_size, X_train_reshaped.shape[1], X_train_reshaped.shape[2]))"
   ],
   "metadata": {
    "collapsed": false,
    "ExecuteTime": {
     "end_time": "2024-10-19T10:02:00.068644500Z",
     "start_time": "2024-10-19T10:01:52.839133400Z"
    }
   },
   "id": "3b24fe7d82306ce1",
   "execution_count": 70
  },
  {
   "cell_type": "code",
   "outputs": [
    {
     "data": {
      "text/plain": "DeepLSTMBiModel(\n  (lstm1): LSTM(99, 1024, batch_first=True, bidirectional=True)\n  (dropout1): Dropout(p=0.5, inplace=False)\n  (norm1): LayerNorm((2048,), eps=1e-05, elementwise_affine=True)\n  (lstm2): LSTM(2048, 512, batch_first=True, bidirectional=True)\n  (dropout2): Dropout(p=0.5, inplace=False)\n  (norm2): LayerNorm((1024,), eps=1e-05, elementwise_affine=True)\n  (lstm3): LSTM(1024, 256, batch_first=True, bidirectional=True)\n  (dropout3): Dropout(p=0.5, inplace=False)\n  (norm3): LayerNorm((512,), eps=1e-05, elementwise_affine=True)\n  (lstm4): LSTM(512, 128, batch_first=True, bidirectional=True)\n  (dropout4): Dropout(p=0.5, inplace=False)\n  (norm4): LayerNorm((256,), eps=1e-05, elementwise_affine=True)\n  (fc): Linear(in_features=256, out_features=6, bias=True)\n)"
     },
     "execution_count": 68,
     "metadata": {},
     "output_type": "execute_result"
    }
   ],
   "source": [
    "model.lstm"
   ],
   "metadata": {
    "collapsed": false,
    "ExecuteTime": {
     "end_time": "2024-10-19T09:44:09.551401600Z",
     "start_time": "2024-10-19T09:44:09.461280200Z"
    }
   },
   "id": "3c17cc11a10c99ed",
   "execution_count": 68
  },
  {
   "cell_type": "code",
   "outputs": [
    {
     "data": {
      "text/plain": "DeepLSTMBiModel(\n  (lstm1): LSTM(99, 1024, batch_first=True, bidirectional=True)\n  (dropout1): Dropout(p=0.5, inplace=False)\n  (norm1): LayerNorm((2048,), eps=1e-05, elementwise_affine=True)\n  (lstm2): LSTM(2048, 512, batch_first=True, bidirectional=True)\n  (dropout2): Dropout(p=0.5, inplace=False)\n  (norm2): LayerNorm((1024,), eps=1e-05, elementwise_affine=True)\n  (lstm3): LSTM(1024, 256, batch_first=True, bidirectional=True)\n  (dropout3): Dropout(p=0.5, inplace=False)\n  (norm3): LayerNorm((512,), eps=1e-05, elementwise_affine=True)\n  (lstm4): LSTM(512, 128, batch_first=True, bidirectional=True)\n  (dropout4): Dropout(p=0.5, inplace=False)\n  (norm4): LayerNorm((256,), eps=1e-05, elementwise_affine=True)\n  (fc): Linear(in_features=256, out_features=6, bias=True)\n)"
     },
     "execution_count": 54,
     "metadata": {},
     "output_type": "execute_result"
    }
   ],
   "source": [
    "model.lstm"
   ],
   "metadata": {
    "collapsed": false,
    "ExecuteTime": {
     "end_time": "2024-10-19T09:02:15.218318500Z",
     "start_time": "2024-10-19T09:02:15.141026700Z"
    }
   },
   "id": "1348ad07ea49b7d4",
   "execution_count": 54
  },
  {
   "metadata": {
    "ExecuteTime": {
     "end_time": "2024-10-19T09:01:21.402514900Z",
     "start_time": "2024-10-19T09:01:16.394612800Z"
    }
   },
   "cell_type": "code",
   "source": [
    "model.fit(\n",
    "    X_train=X_train_reshaped,\n",
    "    y_train=y_new_train,\n",
    "    X_val=X_val,\n",
    "    y_val=y_val,\n",
    "    learning_rate=learning_rate,\n",
    "    epochs=num_epochs,\n",
    "    device=device,\n",
    ")"
   ],
   "id": "ccdf6e65310cb5b1",
   "outputs": [
    {
     "ename": "ValueError",
     "evalue": "batch_size should be a positive integer value, but got batch_size=tensor([1, 3, 2, 0, 1, 2, 0, 1, 2, 5, 3, 4, 1, 2, 2, 2, 5, 4, 4, 1, 5, 2, 4, 3,\n        5, 2, 3, 0, 0, 5, 5, 3, 5, 0, 0, 4, 2, 4, 3, 2, 4, 1, 3, 0, 0, 0, 1, 1,\n        4, 0, 0, 1, 4, 3, 2, 4, 5, 5, 1, 3, 3, 0, 4, 2, 3, 0, 0, 1, 2, 1, 1, 1,\n        5, 2, 1, 2, 0, 1, 4, 0, 0, 2, 4, 5, 2, 0, 5, 2, 4, 4, 1, 1, 4, 0, 2, 5,\n        2, 5, 0, 1, 4, 1, 1, 2, 1, 0, 3, 0, 3, 0, 2, 2, 4, 1, 0, 3, 1, 1, 1, 0,\n        5, 0, 4, 4, 1, 0, 5, 3, 3, 2, 0, 1, 2, 2, 3, 1, 2, 2, 5, 4, 2, 3, 0, 1,\n        1, 5, 5, 0, 3, 4, 4, 5, 2, 5, 2, 1, 2, 1, 0, 4, 4, 1, 3, 3, 5, 2, 5, 1,\n        1, 2, 0, 1, 4, 0, 2, 0, 3, 1, 4, 3, 1, 2, 3, 2, 1, 0, 5, 2, 0, 4, 1, 2,\n        0, 3, 1, 2, 0, 4, 2, 1, 4, 5, 1, 3, 4, 2, 0, 1, 2, 4, 3, 3, 4, 0, 0, 5,\n        4, 4, 0, 0, 5, 5, 0, 3, 3, 2, 2, 3, 2, 5, 1, 0, 4, 1, 0, 2, 1, 0, 1, 1,\n        5, 3, 2, 1, 5, 5, 1, 5, 5, 5, 4, 0, 4, 1, 3, 1, 2, 1, 3, 2, 3, 5, 1, 4,\n        5, 1, 3, 4, 0, 4, 0, 0, 5, 0, 4, 1, 3, 5, 1, 3, 3, 3, 4, 0, 4, 0, 1, 1,\n        2, 4, 4, 2, 0, 0, 3, 3, 4, 1, 4, 2, 3, 1, 3, 1, 4, 2, 5, 0, 0, 3, 3, 2,\n        1, 2, 3, 1, 3, 5, 4, 3, 3, 5, 1, 4, 2, 2, 4, 0, 4, 0, 1, 1, 3, 4, 0, 2,\n        2, 2, 2, 1, 3, 0, 1, 1, 3, 2, 1, 3, 1, 4, 4, 1, 5, 4, 0, 3, 4, 4, 1, 4,\n        2, 0, 1, 0, 5, 4, 1, 5, 3, 4, 0, 4, 3, 5, 2, 2, 0, 3, 4, 0, 1, 4, 3, 1,\n        4, 2, 3, 5, 2, 1, 2, 3, 3, 1, 5, 4, 3, 2, 4, 5, 5, 5, 0, 1, 1, 4, 0, 4,\n        1, 4, 4, 5, 0, 1, 3, 4, 1, 3, 3, 5, 1, 0, 5, 4, 0, 3, 4, 0, 0, 1, 1, 0,\n        4, 1, 4, 3, 2, 3, 3, 4, 1, 0, 3, 0, 5, 4, 0, 0, 1, 0, 4, 3, 1, 1, 0, 2,\n        2, 1, 3, 3, 5, 2, 1, 1, 4, 3, 3, 0, 4, 3, 0, 5, 4, 0, 1, 0, 4, 3, 3, 2,\n        0, 2, 4, 2, 1, 0, 2, 5, 3, 2, 1, 5, 4, 5, 4, 1, 4, 4, 1, 3, 4, 0, 3, 4,\n        1, 0, 2, 3, 1, 2, 1, 3, 3, 4, 2, 2, 0, 0, 2, 0, 3, 2, 1, 3, 0, 5, 0, 0,\n        0, 2, 3, 0])",
     "output_type": "error",
     "traceback": [
      "\u001B[1;31m---------------------------------------------------------------------------\u001B[0m",
      "\u001B[1;31mValueError\u001B[0m                                Traceback (most recent call last)",
      "Cell \u001B[1;32mIn[53], line 1\u001B[0m\n\u001B[1;32m----> 1\u001B[0m \u001B[43mmodel\u001B[49m\u001B[38;5;241;43m.\u001B[39;49m\u001B[43mfit\u001B[49m\u001B[43m(\u001B[49m\n\u001B[0;32m      2\u001B[0m \u001B[43m    \u001B[49m\u001B[43mX_train\u001B[49m\u001B[38;5;241;43m=\u001B[39;49m\u001B[43mX_train_reshaped\u001B[49m\u001B[43m,\u001B[49m\n\u001B[0;32m      3\u001B[0m \u001B[43m    \u001B[49m\u001B[43my_train\u001B[49m\u001B[38;5;241;43m=\u001B[39;49m\u001B[43my_new_train\u001B[49m\u001B[43m,\u001B[49m\n\u001B[0;32m      4\u001B[0m \u001B[43m    \u001B[49m\u001B[43mX_val\u001B[49m\u001B[38;5;241;43m=\u001B[39;49m\u001B[43mX_val\u001B[49m\u001B[43m,\u001B[49m\n\u001B[0;32m      5\u001B[0m \u001B[43m    \u001B[49m\u001B[43my_val\u001B[49m\u001B[38;5;241;43m=\u001B[39;49m\u001B[43my_val\u001B[49m\u001B[43m,\u001B[49m\n\u001B[0;32m      6\u001B[0m \u001B[43m    \u001B[49m\u001B[43mlearning_rate\u001B[49m\u001B[38;5;241;43m=\u001B[39;49m\u001B[43mlearning_rate\u001B[49m\u001B[43m,\u001B[49m\n\u001B[0;32m      7\u001B[0m \u001B[43m    \u001B[49m\u001B[43mepochs\u001B[49m\u001B[38;5;241;43m=\u001B[39;49m\u001B[43mnum_epochs\u001B[49m\u001B[43m,\u001B[49m\n\u001B[0;32m      8\u001B[0m \u001B[43m    \u001B[49m\u001B[43mdevice\u001B[49m\u001B[38;5;241;43m=\u001B[39;49m\u001B[43mdevice\u001B[49m\u001B[43m,\u001B[49m\n\u001B[0;32m      9\u001B[0m \u001B[43m)\u001B[49m\n",
      "File \u001B[1;32mD:\\Workspace\\Repos\\Human_Activity_Recognition\\src\\models\\model.py:71\u001B[0m, in \u001B[0;36mModel.fit\u001B[1;34m(self, X_train, y_train, X_val, y_val, learning_rate, momentum, epochs, device)\u001B[0m\n\u001B[0;32m     66\u001B[0m optimizer \u001B[38;5;241m=\u001B[39m optim\u001B[38;5;241m.\u001B[39mAdam(\n\u001B[0;32m     67\u001B[0m     \u001B[38;5;28mself\u001B[39m\u001B[38;5;241m.\u001B[39mlstm\u001B[38;5;241m.\u001B[39mparameters(), lr\u001B[38;5;241m=\u001B[39mlearning_rate, betas\u001B[38;5;241m=\u001B[39m(momentum, \u001B[38;5;241m0.999\u001B[39m)\n\u001B[0;32m     68\u001B[0m )\n\u001B[0;32m     69\u001B[0m loss_function \u001B[38;5;241m=\u001B[39m nn\u001B[38;5;241m.\u001B[39mCrossEntropyLoss()\n\u001B[1;32m---> 71\u001B[0m train_data \u001B[38;5;241m=\u001B[39m \u001B[43mtorch\u001B[49m\u001B[38;5;241;43m.\u001B[39;49m\u001B[43mutils\u001B[49m\u001B[38;5;241;43m.\u001B[39;49m\u001B[43mdata\u001B[49m\u001B[38;5;241;43m.\u001B[39;49m\u001B[43mDataLoader\u001B[49m\u001B[43m(\u001B[49m\n\u001B[0;32m     72\u001B[0m \u001B[43m    \u001B[49m\u001B[43mtorch\u001B[49m\u001B[38;5;241;43m.\u001B[39;49m\u001B[43mtensor\u001B[49m\u001B[43m(\u001B[49m\u001B[43mX_train\u001B[49m\u001B[43m,\u001B[49m\u001B[43m \u001B[49m\u001B[43mdtype\u001B[49m\u001B[38;5;241;43m=\u001B[39;49m\u001B[43mtorch\u001B[49m\u001B[38;5;241;43m.\u001B[39;49m\u001B[43mfloat32\u001B[49m\u001B[43m)\u001B[49m\u001B[43m,\u001B[49m\n\u001B[0;32m     73\u001B[0m \u001B[43m    \u001B[49m\u001B[43mtorch\u001B[49m\u001B[38;5;241;43m.\u001B[39;49m\u001B[43mtensor\u001B[49m\u001B[43m(\u001B[49m\u001B[43my_train\u001B[49m\u001B[43m,\u001B[49m\u001B[43m \u001B[49m\u001B[43mdtype\u001B[49m\u001B[38;5;241;43m=\u001B[39;49m\u001B[43mtorch\u001B[49m\u001B[38;5;241;43m.\u001B[39;49m\u001B[43mlong\u001B[49m\u001B[43m)\u001B[49m\u001B[43m,\u001B[49m\n\u001B[0;32m     74\u001B[0m \u001B[43m\u001B[49m\u001B[43m)\u001B[49m\n\u001B[0;32m     76\u001B[0m val_data \u001B[38;5;241m=\u001B[39m torch\u001B[38;5;241m.\u001B[39mutils\u001B[38;5;241m.\u001B[39mdata\u001B[38;5;241m.\u001B[39mDataLoader(\n\u001B[0;32m     77\u001B[0m     torch\u001B[38;5;241m.\u001B[39mtensor(X_val, dtype\u001B[38;5;241m=\u001B[39mtorch\u001B[38;5;241m.\u001B[39mfloat32),\n\u001B[0;32m     78\u001B[0m     torch\u001B[38;5;241m.\u001B[39mtensor(y_val, dtype\u001B[38;5;241m=\u001B[39mtorch\u001B[38;5;241m.\u001B[39mlong),\n\u001B[0;32m     79\u001B[0m )\n\u001B[0;32m     81\u001B[0m train_loader \u001B[38;5;241m=\u001B[39m torch\u001B[38;5;241m.\u001B[39mutils\u001B[38;5;241m.\u001B[39mdata\u001B[38;5;241m.\u001B[39mDataLoader(train_data, batch_size\u001B[38;5;241m=\u001B[39m\u001B[38;5;28mself\u001B[39m\u001B[38;5;241m.\u001B[39mbatch_size, shuffle\u001B[38;5;241m=\u001B[39m\u001B[38;5;28;01mTrue\u001B[39;00m)\n",
      "File \u001B[1;32m~\\AppData\\Local\\Programs\\Python\\Python310\\lib\\site-packages\\torch\\utils\\data\\dataloader.py:356\u001B[0m, in \u001B[0;36mDataLoader.__init__\u001B[1;34m(self, dataset, batch_size, shuffle, sampler, batch_sampler, num_workers, collate_fn, pin_memory, drop_last, timeout, worker_init_fn, multiprocessing_context, generator, prefetch_factor, persistent_workers, pin_memory_device)\u001B[0m\n\u001B[0;32m    352\u001B[0m             sampler \u001B[38;5;241m=\u001B[39m SequentialSampler(dataset)  \u001B[38;5;66;03m# type: ignore[arg-type]\u001B[39;00m\n\u001B[0;32m    354\u001B[0m \u001B[38;5;28;01mif\u001B[39;00m batch_size \u001B[38;5;129;01mis\u001B[39;00m \u001B[38;5;129;01mnot\u001B[39;00m \u001B[38;5;28;01mNone\u001B[39;00m \u001B[38;5;129;01mand\u001B[39;00m batch_sampler \u001B[38;5;129;01mis\u001B[39;00m \u001B[38;5;28;01mNone\u001B[39;00m:\n\u001B[0;32m    355\u001B[0m     \u001B[38;5;66;03m# auto_collation without custom batch_sampler\u001B[39;00m\n\u001B[1;32m--> 356\u001B[0m     batch_sampler \u001B[38;5;241m=\u001B[39m \u001B[43mBatchSampler\u001B[49m\u001B[43m(\u001B[49m\u001B[43msampler\u001B[49m\u001B[43m,\u001B[49m\u001B[43m \u001B[49m\u001B[43mbatch_size\u001B[49m\u001B[43m,\u001B[49m\u001B[43m \u001B[49m\u001B[43mdrop_last\u001B[49m\u001B[43m)\u001B[49m\n\u001B[0;32m    358\u001B[0m \u001B[38;5;28mself\u001B[39m\u001B[38;5;241m.\u001B[39mbatch_size \u001B[38;5;241m=\u001B[39m batch_size\n\u001B[0;32m    359\u001B[0m \u001B[38;5;28mself\u001B[39m\u001B[38;5;241m.\u001B[39mdrop_last \u001B[38;5;241m=\u001B[39m drop_last\n",
      "File \u001B[1;32m~\\AppData\\Local\\Programs\\Python\\Python310\\lib\\site-packages\\torch\\utils\\data\\sampler.py:267\u001B[0m, in \u001B[0;36mBatchSampler.__init__\u001B[1;34m(self, sampler, batch_size, drop_last)\u001B[0m\n\u001B[0;32m    261\u001B[0m \u001B[38;5;28;01mdef\u001B[39;00m \u001B[38;5;21m__init__\u001B[39m(\u001B[38;5;28mself\u001B[39m, sampler: Union[Sampler[\u001B[38;5;28mint\u001B[39m], Iterable[\u001B[38;5;28mint\u001B[39m]], batch_size: \u001B[38;5;28mint\u001B[39m, drop_last: \u001B[38;5;28mbool\u001B[39m) \u001B[38;5;241m-\u001B[39m\u001B[38;5;241m>\u001B[39m \u001B[38;5;28;01mNone\u001B[39;00m:\n\u001B[0;32m    262\u001B[0m     \u001B[38;5;66;03m# Since collections.abc.Iterable does not check for `__getitem__`, which\u001B[39;00m\n\u001B[0;32m    263\u001B[0m     \u001B[38;5;66;03m# is one way for an object to be an iterable, we don't do an `isinstance`\u001B[39;00m\n\u001B[0;32m    264\u001B[0m     \u001B[38;5;66;03m# check here.\u001B[39;00m\n\u001B[0;32m    265\u001B[0m     \u001B[38;5;28;01mif\u001B[39;00m \u001B[38;5;129;01mnot\u001B[39;00m \u001B[38;5;28misinstance\u001B[39m(batch_size, \u001B[38;5;28mint\u001B[39m) \u001B[38;5;129;01mor\u001B[39;00m \u001B[38;5;28misinstance\u001B[39m(batch_size, \u001B[38;5;28mbool\u001B[39m) \u001B[38;5;129;01mor\u001B[39;00m \\\n\u001B[0;32m    266\u001B[0m             batch_size \u001B[38;5;241m<\u001B[39m\u001B[38;5;241m=\u001B[39m \u001B[38;5;241m0\u001B[39m:\n\u001B[1;32m--> 267\u001B[0m         \u001B[38;5;28;01mraise\u001B[39;00m \u001B[38;5;167;01mValueError\u001B[39;00m(\u001B[38;5;124mf\u001B[39m\u001B[38;5;124m\"\u001B[39m\u001B[38;5;124mbatch_size should be a positive integer value, but got batch_size=\u001B[39m\u001B[38;5;132;01m{\u001B[39;00mbatch_size\u001B[38;5;132;01m}\u001B[39;00m\u001B[38;5;124m\"\u001B[39m)\n\u001B[0;32m    268\u001B[0m     \u001B[38;5;28;01mif\u001B[39;00m \u001B[38;5;129;01mnot\u001B[39;00m \u001B[38;5;28misinstance\u001B[39m(drop_last, \u001B[38;5;28mbool\u001B[39m):\n\u001B[0;32m    269\u001B[0m         \u001B[38;5;28;01mraise\u001B[39;00m \u001B[38;5;167;01mValueError\u001B[39;00m(\u001B[38;5;124mf\u001B[39m\u001B[38;5;124m\"\u001B[39m\u001B[38;5;124mdrop_last should be a boolean value, but got drop_last=\u001B[39m\u001B[38;5;132;01m{\u001B[39;00mdrop_last\u001B[38;5;132;01m}\u001B[39;00m\u001B[38;5;124m\"\u001B[39m)\n",
      "\u001B[1;31mValueError\u001B[0m: batch_size should be a positive integer value, but got batch_size=tensor([1, 3, 2, 0, 1, 2, 0, 1, 2, 5, 3, 4, 1, 2, 2, 2, 5, 4, 4, 1, 5, 2, 4, 3,\n        5, 2, 3, 0, 0, 5, 5, 3, 5, 0, 0, 4, 2, 4, 3, 2, 4, 1, 3, 0, 0, 0, 1, 1,\n        4, 0, 0, 1, 4, 3, 2, 4, 5, 5, 1, 3, 3, 0, 4, 2, 3, 0, 0, 1, 2, 1, 1, 1,\n        5, 2, 1, 2, 0, 1, 4, 0, 0, 2, 4, 5, 2, 0, 5, 2, 4, 4, 1, 1, 4, 0, 2, 5,\n        2, 5, 0, 1, 4, 1, 1, 2, 1, 0, 3, 0, 3, 0, 2, 2, 4, 1, 0, 3, 1, 1, 1, 0,\n        5, 0, 4, 4, 1, 0, 5, 3, 3, 2, 0, 1, 2, 2, 3, 1, 2, 2, 5, 4, 2, 3, 0, 1,\n        1, 5, 5, 0, 3, 4, 4, 5, 2, 5, 2, 1, 2, 1, 0, 4, 4, 1, 3, 3, 5, 2, 5, 1,\n        1, 2, 0, 1, 4, 0, 2, 0, 3, 1, 4, 3, 1, 2, 3, 2, 1, 0, 5, 2, 0, 4, 1, 2,\n        0, 3, 1, 2, 0, 4, 2, 1, 4, 5, 1, 3, 4, 2, 0, 1, 2, 4, 3, 3, 4, 0, 0, 5,\n        4, 4, 0, 0, 5, 5, 0, 3, 3, 2, 2, 3, 2, 5, 1, 0, 4, 1, 0, 2, 1, 0, 1, 1,\n        5, 3, 2, 1, 5, 5, 1, 5, 5, 5, 4, 0, 4, 1, 3, 1, 2, 1, 3, 2, 3, 5, 1, 4,\n        5, 1, 3, 4, 0, 4, 0, 0, 5, 0, 4, 1, 3, 5, 1, 3, 3, 3, 4, 0, 4, 0, 1, 1,\n        2, 4, 4, 2, 0, 0, 3, 3, 4, 1, 4, 2, 3, 1, 3, 1, 4, 2, 5, 0, 0, 3, 3, 2,\n        1, 2, 3, 1, 3, 5, 4, 3, 3, 5, 1, 4, 2, 2, 4, 0, 4, 0, 1, 1, 3, 4, 0, 2,\n        2, 2, 2, 1, 3, 0, 1, 1, 3, 2, 1, 3, 1, 4, 4, 1, 5, 4, 0, 3, 4, 4, 1, 4,\n        2, 0, 1, 0, 5, 4, 1, 5, 3, 4, 0, 4, 3, 5, 2, 2, 0, 3, 4, 0, 1, 4, 3, 1,\n        4, 2, 3, 5, 2, 1, 2, 3, 3, 1, 5, 4, 3, 2, 4, 5, 5, 5, 0, 1, 1, 4, 0, 4,\n        1, 4, 4, 5, 0, 1, 3, 4, 1, 3, 3, 5, 1, 0, 5, 4, 0, 3, 4, 0, 0, 1, 1, 0,\n        4, 1, 4, 3, 2, 3, 3, 4, 1, 0, 3, 0, 5, 4, 0, 0, 1, 0, 4, 3, 1, 1, 0, 2,\n        2, 1, 3, 3, 5, 2, 1, 1, 4, 3, 3, 0, 4, 3, 0, 5, 4, 0, 1, 0, 4, 3, 3, 2,\n        0, 2, 4, 2, 1, 0, 2, 5, 3, 2, 1, 5, 4, 5, 4, 1, 4, 4, 1, 3, 4, 0, 3, 4,\n        1, 0, 2, 3, 1, 2, 1, 3, 3, 4, 2, 2, 0, 0, 2, 0, 3, 2, 1, 3, 0, 5, 0, 0,\n        0, 2, 3, 0])"
     ]
    }
   ],
   "execution_count": 53
  },
  {
   "metadata": {
    "ExecuteTime": {
     "end_time": "2024-10-18T17:53:15.307635Z",
     "start_time": "2024-10-18T17:53:15.036346Z"
    }
   },
   "cell_type": "code",
   "source": [
    "# Save the models\n",
    "model.save('models.h5')"
   ],
   "id": "4a996a7547e7efd",
   "outputs": [],
   "execution_count": 368
  },
  {
   "metadata": {
    "ExecuteTime": {
     "end_time": "2024-10-18T17:53:15.488320Z",
     "start_time": "2024-10-18T17:53:15.435417Z"
    }
   },
   "cell_type": "code",
   "source": [
    "import matplotlib.pyplot as plt\n",
    "\n",
    "plt.plot(model.history.history['accuracy'])\n",
    "plt.plot(model.history.history['val_accuracy'])\n",
    "plt.title('Model accuracy')\n",
    "plt.ylabel('Accuracy')\n",
    "plt.xlabel('Epoch')\n",
    "plt.legend(['Train', 'Validation'], loc='upper left')\n",
    "plt.show()"
   ],
   "id": "fa97eb34e5e491d",
   "outputs": [
    {
     "data": {
      "text/plain": [
       "<Figure size 640x480 with 1 Axes>"
      ],
      "image/png": "[encoded data removed]"
     },
     "metadata": {},
     "output_type": "display_data"
    }
   ],
   "execution_count": 369
  },
  {
   "metadata": {
    "ExecuteTime": {
     "end_time": "2024-10-18T17:57:15.140109Z",
     "start_time": "2024-10-18T17:57:13.106319Z"
    }
   },
   "cell_type": "code",
   "source": [
    "# Metrics\n",
    "model.evaluate(X_train_reshaped, y_new_train)"
   ],
   "id": "d6999e44a797b56f",
   "outputs": [
    {
     "name": "stdout",
     "output_type": "stream",
     "text": [
      "18/18 [==============================] - 2s 110ms/step - loss: 0.0600 - accuracy: 0.9804\n"
     ]
    },
    {
     "data": {
      "text/plain": [
       "[0.05996213108301163, 0.9803571701049805]"
      ]
     },
     "execution_count": 372,
     "metadata": {},
     "output_type": "execute_result"
    }
   ],
   "execution_count": 372
  },
  {
   "metadata": {
    "ExecuteTime": {
     "end_time": "2024-10-18T17:57:33.866234Z",
     "start_time": "2024-10-18T17:57:33.855672Z"
    }
   },
   "cell_type": "code",
   "source": [
    "# Show the confusion matrix\n",
    "from sklearn.metrics import confusion_matrix\n",
    "import seaborn as sns\n",
    "import matplotlib.pyplot as plt\n",
    "\n",
    "y_pred = model.predict(X_train_reshaped)\n",
    "y_pred = np.argmax(y_pred, axis=1)\n",
    "cm = confusion_matrix(y_train, y_pred)\n",
    "plt.figure(figsize=(10, 7))\n",
    "sns.heatmap(cm, annot=True, fmt='d')\n",
    "plt.xlabel('Predicted')\n",
    "plt.ylabel('Truth')\n",
    "plt.show()"
   ],
   "id": "58a2df385bf400af",
   "outputs": [
    {
     "ename": "ModuleNotFoundError",
     "evalue": "No module named 'seaborn'",
     "output_type": "error",
     "traceback": [
      "\u001B[0;31m---------------------------------------------------------------------------\u001B[0m",
      "\u001B[0;31mModuleNotFoundError\u001B[0m                       Traceback (most recent call last)",
      "Cell \u001B[0;32mIn[375], line 3\u001B[0m\n\u001B[1;32m      1\u001B[0m \u001B[38;5;66;03m# Show the confusion matrix\u001B[39;00m\n\u001B[1;32m      2\u001B[0m \u001B[38;5;28;01mfrom\u001B[39;00m \u001B[38;5;21;01msklearn\u001B[39;00m\u001B[38;5;21;01m.\u001B[39;00m\u001B[38;5;21;01mmetrics\u001B[39;00m \u001B[38;5;28;01mimport\u001B[39;00m confusion_matrix\n\u001B[0;32m----> 3\u001B[0m \u001B[38;5;28;01mimport\u001B[39;00m \u001B[38;5;21;01mseaborn\u001B[39;00m \u001B[38;5;28;01mas\u001B[39;00m \u001B[38;5;21;01msns\u001B[39;00m\n\u001B[1;32m      4\u001B[0m \u001B[38;5;28;01mimport\u001B[39;00m \u001B[38;5;21;01mmatplotlib\u001B[39;00m\u001B[38;5;21;01m.\u001B[39;00m\u001B[38;5;21;01mpyplot\u001B[39;00m \u001B[38;5;28;01mas\u001B[39;00m \u001B[38;5;21;01mplt\u001B[39;00m\n\u001B[1;32m      6\u001B[0m y_pred \u001B[38;5;241m=\u001B[39m model\u001B[38;5;241m.\u001B[39mpredict(X_train_reshaped)\n",
      "\u001B[0;31mModuleNotFoundError\u001B[0m: No module named 'seaborn'"
     ]
    }
   ],
   "execution_count": 375
  },
  {
   "metadata": {
    "ExecuteTime": {
     "end_time": "2024-10-18T17:57:31.396944Z",
     "start_time": "2024-10-18T17:57:31.394432Z"
    }
   },
   "cell_type": "code",
   "source": [
    "LABEL"
   ],
   "id": "a6e6f3649c72985d",
   "outputs": [
    {
     "data": {
      "text/plain": [
       "{'Jump': 0, 'Kick': 1, 'Punch': 2, 'Left': 3, 'Right': 4, 'Stand': 5}"
      ]
     },
     "execution_count": 374,
     "metadata": {},
     "output_type": "execute_result"
    }
   ],
   "execution_count": 374
  }
 ],
 "metadata": {
  "kernelspec": {
   "display_name": "Python 3",
   "language": "python",
   "name": "python3"
  },
  "language_info": {
   "codemirror_mode": {
    "name": "ipython",
    "version": 2
   },
   "file_extension": ".py",
   "mimetype": "text/x-python",
   "name": "python",
   "nbconvert_exporter": "python",
   "pygments_lexer": "ipython2",
   "version": "2.7.6"
  }
 },
 "nbformat": 4,
 "nbformat_minor": 5
}
