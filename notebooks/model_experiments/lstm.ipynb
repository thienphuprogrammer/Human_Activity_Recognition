{
 "cells": [
  {
   "metadata": {
    "ExecuteTime": {
     "end_time": "2024-10-16T17:46:48.406935Z",
     "start_time": "2024-10-16T17:46:47.304044Z"
    }
   },
   "cell_type": "code",
   "source": [
    "from src.data_pipeline.loaders.loaders import load_har_dataset\n",
    "from src.training.scripts.training import train_model_lstm\n",
    "from src.models.lstm import LSTM\n",
    "import torch\n",
    "import torch.nn as nn\n",
    "import numpy as np"
   ],
   "id": "ae7dfad25e2c32c2",
   "outputs": [],
   "execution_count": 1
  },
  {
   "metadata": {
    "ExecuteTime": {
     "end_time": "2024-10-16T17:47:25.486767Z",
     "start_time": "2024-10-16T17:47:25.485067Z"
    }
   },
   "cell_type": "code",
   "source": [
    "dataset_path = \"./../../data/raw/HAR/\"\n",
    "resize_dataset_video_path = \"./../../data/processed/HAR/\"\n",
    "output_csv_path = \"./../../data/processed/HAR/UCF\""
   ],
   "id": "a554f9c0d3a881cf",
   "outputs": [],
   "execution_count": 2
  },
  {
   "metadata": {
    "ExecuteTime": {
     "end_time": "2024-10-16T17:47:27.340737Z",
     "start_time": "2024-10-16T17:47:27.334143Z"
    }
   },
   "cell_type": "code",
   "source": [
    "\n",
    "\n",
    "test = np.array([np.nan, np.nan, np.nan], dtype=np.float32)\n",
    "print(np.isnan(test).all())\n",
    "\n",
    "x_train, y_train = load_har_dataset(dataset_path,\n",
    "                                    resize_dataset_video_path,\n",
    "                                    output_csv_path,\n",
    "                                    max_dim=35, train_test='train')\n",
    "\n",
    "# check nan values\n",
    "print(f\"Training data shape: {x_train.shape}, Training labels shape: {y_train.shape}\")\n",
    "for i in range(x_train.shape[0]):\n",
    "    if np.isnan(x_train[i]).any():\n",
    "        print(f'X_train nan values in {i}th row')\n",
    "        print(x_train[i])\n",
    "        break"
   ],
   "id": "31ea2f82ef2d3c8f",
   "outputs": [
    {
     "name": "stdout",
     "output_type": "stream",
     "text": [
      "True\n",
      "Loading data from saved numpy arrays\n",
      "Training data shape: (396, 35, 75, 3), Training labels shape: (396,)\n",
      "X_train nan values in 12th row\n",
      "[[[ 0.51518035  0.3186636  -0.31946817]\n",
      "  [ 0.5221733   0.30450466 -0.31405962]\n",
      "  [ 0.5264187   0.30406633 -0.31411478]\n",
      "  ...\n",
      "  [        nan         nan         nan]\n",
      "  [        nan         nan         nan]\n",
      "  [        nan         nan         nan]]\n",
      "\n",
      " [[ 0.5140137   0.31891584 -0.3386466 ]\n",
      "  [ 0.52171725  0.3047338  -0.3340165 ]\n",
      "  [ 0.5259264   0.30429608 -0.33403373]\n",
      "  ...\n",
      "  [        nan         nan         nan]\n",
      "  [        nan         nan         nan]\n",
      "  [        nan         nan         nan]]\n",
      "\n",
      " [[ 0.5150263   0.31876394 -0.3432704 ]\n",
      "  [ 0.5224237   0.30492434 -0.33709446]\n",
      "  [ 0.526701    0.30456045 -0.33711678]\n",
      "  ...\n",
      "  [        nan         nan         nan]\n",
      "  [        nan         nan         nan]\n",
      "  [        nan         nan         nan]]\n",
      "\n",
      " ...\n",
      "\n",
      " [[ 0.51757383  0.3174985  -0.34759152]\n",
      "  [ 0.5254659   0.30327812 -0.33929625]\n",
      "  [ 0.53000057  0.30309516 -0.33937627]\n",
      "  ...\n",
      "  [        nan         nan         nan]\n",
      "  [        nan         nan         nan]\n",
      "  [        nan         nan         nan]]\n",
      "\n",
      " [[ 0.5182375   0.317132   -0.3770791 ]\n",
      "  [ 0.52625495  0.30451277 -0.36893424]\n",
      "  [ 0.53111285  0.30435404 -0.36908683]\n",
      "  ...\n",
      "  [        nan         nan         nan]\n",
      "  [        nan         nan         nan]\n",
      "  [        nan         nan         nan]]\n",
      "\n",
      " [[ 0.51899344  0.31653994 -0.3326593 ]\n",
      "  [ 0.52718353  0.30289388 -0.3250723 ]\n",
      "  [ 0.53202397  0.30260578 -0.32517484]\n",
      "  ...\n",
      "  [        nan         nan         nan]\n",
      "  [        nan         nan         nan]\n",
      "  [        nan         nan         nan]]]\n"
     ]
    }
   ],
   "execution_count": 3
  },
  {
   "metadata": {
    "ExecuteTime": {
     "end_time": "2024-10-16T17:48:22.290316Z",
     "start_time": "2024-10-16T17:48:22.285578Z"
    }
   },
   "cell_type": "code",
   "source": "x_train[12][2]",
   "id": "aae5d04cd9797d0d",
   "outputs": [
    {
     "data": {
      "text/plain": [
       "array([[ 5.15026271e-01,  3.18763942e-01, -3.43270391e-01],\n",
       "       [ 5.22423685e-01,  3.04924339e-01, -3.37094456e-01],\n",
       "       [ 5.26700974e-01,  3.04560453e-01, -3.37116778e-01],\n",
       "       [ 5.30886471e-01,  3.04340303e-01, -3.37284148e-01],\n",
       "       [ 5.13585925e-01,  3.05410236e-01, -3.10378581e-01],\n",
       "       [ 5.11630118e-01,  3.05247426e-01, -3.10270488e-01],\n",
       "       [ 5.10113597e-01,  3.05076450e-01, -3.10325056e-01],\n",
       "       [ 5.41862905e-01,  3.09232086e-01, -2.57762074e-01],\n",
       "       [ 5.16213715e-01,  3.09874594e-01, -1.40592769e-01],\n",
       "       [ 5.23941219e-01,  3.32107991e-01, -3.11101705e-01],\n",
       "       [ 5.13516247e-01,  3.31718951e-01, -2.77341664e-01],\n",
       "       [ 5.64183354e-01,  3.84729207e-01, -3.21943283e-01],\n",
       "       [ 5.20664811e-01,  3.99597287e-01,  7.45011121e-02],\n",
       "       [ 5.65626562e-01,  4.98864114e-01, -3.59056771e-01],\n",
       "       [ 5.08750260e-01,  5.06456614e-01,  1.55663759e-01],\n",
       "       [ 5.49085319e-01,  6.13499582e-01, -3.81228864e-01],\n",
       "       [ 5.11951387e-01,  6.04197919e-01,  5.15878089e-02],\n",
       "       [ 5.51407695e-01,  6.49219692e-01, -4.31103945e-01],\n",
       "       [ 5.04375339e-01,  6.35100722e-01,  4.82840613e-02],\n",
       "       [ 5.33714175e-01,  6.49201751e-01, -4.38868612e-01],\n",
       "       [ 5.07381320e-01,  6.36492729e-01,  2.00285809e-03],\n",
       "       [ 5.33451259e-01,  6.39815688e-01, -3.82755131e-01],\n",
       "       [ 5.09583473e-01,  6.26101792e-01,  3.08459997e-02],\n",
       "       [ 5.38392544e-01,  6.03635728e-01, -1.36824355e-01],\n",
       "       [ 5.21854579e-01,  6.02111042e-01,  1.37029305e-01],\n",
       "       [ 5.39482117e-01,  7.62524784e-01, -1.24168195e-01],\n",
       "       [ 5.34206510e-01,  7.49826789e-01,  2.04954818e-01],\n",
       "       [ 5.46445191e-01,  9.17250454e-01, -5.36419824e-02],\n",
       "       [ 5.49310625e-01,  9.05355275e-01,  3.54069114e-01],\n",
       "       [ 5.52726328e-01,  9.18156743e-01, -5.45078591e-02],\n",
       "       [ 5.52770078e-01,  9.04597104e-01,  3.60864520e-01],\n",
       "       [ 4.79704916e-01,  9.37826037e-01, -1.76666111e-01],\n",
       "       [ 4.82860565e-01,  9.06409919e-01,  2.67011464e-01],\n",
       "       [ 5.56120276e-01,  6.10944688e-01, -2.22852101e-08],\n",
       "       [ 5.69596350e-01,  6.32034600e-01,  6.51646499e-03],\n",
       "       [ 5.73945522e-01,  6.47091389e-01,  9.42410063e-03],\n",
       "       [ 5.65332055e-01,  6.54727280e-01,  1.05514787e-02],\n",
       "       [ 5.55178165e-01,  6.60024941e-01,  1.15141328e-02],\n",
       "       [ 5.76943636e-01,  6.50143325e-01,  9.14063584e-03],\n",
       "       [ 5.65257311e-01,  6.65208161e-01,  9.75930505e-03],\n",
       "       [ 5.58703780e-01,  6.73056662e-01,  1.01595968e-02],\n",
       "       [ 5.54442406e-01,  6.78057969e-01,  1.06840413e-02],\n",
       "       [ 5.56723058e-01,  6.49057865e-01,  5.21085784e-03],\n",
       "       [ 5.52238286e-01,  6.65636778e-01,  5.40478108e-03],\n",
       "       [ 5.49900055e-01,  6.73416138e-01,  5.20927738e-03],\n",
       "       [ 5.48159540e-01,  6.78786516e-01,  5.17360913e-03],\n",
       "       [ 5.48883677e-01,  6.46975994e-01,  1.33487780e-03],\n",
       "       [ 5.47206700e-01,  6.63571060e-01,  1.99707435e-03],\n",
       "       [ 5.46912134e-01,  6.71262801e-01,  3.04787303e-03],\n",
       "       [ 5.46063781e-01,  6.76365554e-01,  3.52930930e-03],\n",
       "       [ 5.60618222e-01,  6.44462645e-01, -2.22560461e-03],\n",
       "       [ 5.60575783e-01,  6.58539653e-01, -1.67969018e-04],\n",
       "       [ 5.58733761e-01,  6.65571809e-01,  2.35272944e-03],\n",
       "       [ 5.56455731e-01,  6.70340836e-01,  3.94636346e-03],\n",
       "       [            nan,             nan,             nan],\n",
       "       [            nan,             nan,             nan],\n",
       "       [            nan,             nan,             nan],\n",
       "       [            nan,             nan,             nan],\n",
       "       [            nan,             nan,             nan],\n",
       "       [            nan,             nan,             nan],\n",
       "       [            nan,             nan,             nan],\n",
       "       [            nan,             nan,             nan],\n",
       "       [            nan,             nan,             nan],\n",
       "       [            nan,             nan,             nan],\n",
       "       [            nan,             nan,             nan],\n",
       "       [            nan,             nan,             nan],\n",
       "       [            nan,             nan,             nan],\n",
       "       [            nan,             nan,             nan],\n",
       "       [            nan,             nan,             nan],\n",
       "       [            nan,             nan,             nan],\n",
       "       [            nan,             nan,             nan],\n",
       "       [            nan,             nan,             nan],\n",
       "       [            nan,             nan,             nan],\n",
       "       [            nan,             nan,             nan],\n",
       "       [            nan,             nan,             nan]], dtype=float32)"
      ]
     },
     "execution_count": 8,
     "metadata": {},
     "output_type": "execute_result"
    }
   ],
   "execution_count": 8
  }
 ],
 "metadata": {
  "kernelspec": {
   "display_name": "Python 3",
   "language": "python",
   "name": "python3"
  },
  "language_info": {
   "codemirror_mode": {
    "name": "ipython",
    "version": 2
   },
   "file_extension": ".py",
   "mimetype": "text/x-python",
   "name": "python",
   "nbconvert_exporter": "python",
   "pygments_lexer": "ipython2",
   "version": "2.7.6"
  }
 },
 "nbformat": 4,
 "nbformat_minor": 5
}
